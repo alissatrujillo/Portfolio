{
 "cells": [
  {
   "cell_type": "markdown",
   "metadata": {},
   "source": [
    "# Final Project Milestone 5\n",
    "\n",
    "Alissa Trujillo<br>\n",
    "November 4, 2022<br>\n",
    "DSC 540<br>\n",
    "Final Project"
   ]
  },
  {
   "cell_type": "code",
   "execution_count": 1,
   "metadata": {},
   "outputs": [],
   "source": [
    "import pandas as pd\n",
    "import numpy as np\n",
    "import sqlalchemy\n",
    "from sqlalchemy import create_engine"
   ]
  },
  {
   "cell_type": "markdown",
   "metadata": {},
   "source": [
    "### Loading Datasets Into Database"
   ]
  },
  {
   "cell_type": "code",
   "execution_count": 2,
   "metadata": {},
   "outputs": [],
   "source": [
    "movie_df = pd.read_csv('moviedata_cleaned.csv')\n",
    "boxoffice_df = pd.read_csv('boxoffice_cleaned.csv')\n",
    "music_df = pd.read_csv('musicdata_cleaned.csv')"
   ]
  },
  {
   "cell_type": "code",
   "execution_count": 3,
   "metadata": {},
   "outputs": [],
   "source": [
    "engine = create_engine('sqlite://', echo = False)"
   ]
  },
  {
   "cell_type": "code",
   "execution_count": 12,
   "metadata": {},
   "outputs": [
    {
     "name": "stdout",
     "output_type": "stream",
     "text": [
      "(0, 'Academy Award Review of', 'Walt Disney Productions', '1937-05-19', '41 minutes (74 minutes 1966 release)', 'United States', 'English', 41.0, None, None, '1937-05-19', 7.2, None, None, None, None, None, None, None, None, None, None, 1937.0)\n"
     ]
    }
   ],
   "source": [
    "with engine.begin() as conn:\n",
    "    movie_df.to_sql('movie_data', con=conn, if_exists='append')\n",
    "    rows = engine.execute(\"SELECT * FROM movie_data LIMIT 1\")\n",
    "    for row in rows:\n",
    "        print(row)"
   ]
  },
  {
   "cell_type": "code",
   "execution_count": 9,
   "metadata": {},
   "outputs": [
    {
     "name": "stdout",
     "output_type": "stream",
     "text": [
      "(0, \"We Don't Talk About Bruno\", 'Encanto', 'Carolina Gaitán - La Gaita', 'Encanto (Original Motion Picture Soundtrack)', '03:36', 79, 96.42857142857144, '52xJxFP6TqMuO4Yt0eOkMz')\n"
     ]
    }
   ],
   "source": [
    "with engine.begin() as conn:\n",
    "    music_df.to_sql('music_data', con=conn, if_exists='append')\n",
    "    rows = engine.execute(\"SELECT * FROM music_data LIMIT 1\")\n",
    "    for row in rows:\n",
    "        print(row)"
   ]
  },
  {
   "cell_type": "code",
   "execution_count": 10,
   "metadata": {},
   "outputs": [
    {
     "name": "stdout",
     "output_type": "stream",
     "text": [
      "(0, 'The Lion King', 2019, '$1,657,598,092', 1657598092.0, '$543,638,043', 543638043.0)\n"
     ]
    }
   ],
   "source": [
    "with engine.begin() as conn:\n",
    "    boxoffice_df.to_sql('boxoffice_data', con=conn, if_exists='append')\n",
    "    rows = engine.execute(\"SELECT * FROM boxoffice_data LIMIT 1\")\n",
    "    for row in rows:\n",
    "        print(row)"
   ]
  },
  {
   "cell_type": "markdown",
   "metadata": {},
   "source": [
    "### Combining Datasets in SQL"
   ]
  },
  {
   "cell_type": "code",
   "execution_count": 27,
   "metadata": {},
   "outputs": [
    {
     "name": "stdout",
     "output_type": "stream",
     "text": [
      "(193, 'The Lion King', \"['Walt Disney Pictures', 'Walt Disney Feature Animation']\", '1994-06-24', '88 minutes', 'United States', 'English', 88.0, 45000000.0, 968500000.0, '1994-06-15', 8.5, 88.0, '93%', \"['Roger Allers', 'Rob Minkoff']\", 'Don Hahn', None, \"['Hamlet', 'by', 'William Shakespeare']\", \"['Jonathan Taylor Thomas', 'Matthew Broderick', 'James Earl Jones', 'Jeremy Irons', 'Moira Kelly', 'Niketa Calame', 'Ernie Sabella', 'Nathan Lane', 'Robert Guillaume', 'Rowan Atkinson', 'Whoopi Goldberg', 'Cheech Marin', 'Jim Cummings', 'Madge Sinclair']\", 'Hans Zimmer', 'Buena Vista Pictures', '$45 million', 1994.0, 4, 'Hakuna Matata ', 'The Lion King', 'Nathan Lane', 'The Lion King', '03:33', 71, 67.85714285714286, '5k3U0OGYBccHdKJJu3HrUN', 13, 'The Lion King', 1994, '$968,554,386', 968554386.0, '$422,783,777', 422783777.0)\n"
     ]
    }
   ],
   "source": [
    "with engine.begin() as conn:\n",
    "    sql = \"\"\"\n",
    "    SELECT *\n",
    "    FROM movie_data\n",
    "    JOIN music_data\n",
    "    ON movie_data.title = music_data.movie\n",
    "    JOIN boxoffice_data\n",
    "    ON movie_data.title = boxoffice_data.Title\n",
    "    AND movie_data.Year = boxoffice_data.Year\n",
    "    LIMIT 1\n",
    "    \"\"\"\n",
    "    rows = engine.execute(sql)\n",
    "    for row in rows:\n",
    "        print(row)"
   ]
  },
  {
   "cell_type": "markdown",
   "metadata": {},
   "source": [
    "Now we have the information from each of our three tables combined into a single database. This pairs up the information from Spotify with the data regarding the films that we collected from our other sources. Above we see the entry for Hakuna Matata, which includes not just information regarding the song but information about the Lion King film as well."
   ]
  },
  {
   "cell_type": "markdown",
   "metadata": {},
   "source": [
    "### Merging Datasets in Python"
   ]
  },
  {
   "cell_type": "markdown",
   "metadata": {},
   "source": [
    "In order to help with the analysis process, I am going to create a couple more nuanced dataframes that contain subsets of this information. I am going to start with a merge of just our Movie_DF and our Boxoffice_DF to get film specific information."
   ]
  },
  {
   "cell_type": "code",
   "execution_count": 14,
   "metadata": {},
   "outputs": [
    {
     "data": {
      "text/html": [
       "<div>\n",
       "<style scoped>\n",
       "    .dataframe tbody tr th:only-of-type {\n",
       "        vertical-align: middle;\n",
       "    }\n",
       "\n",
       "    .dataframe tbody tr th {\n",
       "        vertical-align: top;\n",
       "    }\n",
       "\n",
       "    .dataframe thead th {\n",
       "        text-align: right;\n",
       "    }\n",
       "</style>\n",
       "<table border=\"1\" class=\"dataframe\">\n",
       "  <thead>\n",
       "    <tr style=\"text-align: right;\">\n",
       "      <th></th>\n",
       "      <th>title</th>\n",
       "      <th>Production company</th>\n",
       "      <th>Release date</th>\n",
       "      <th>Running time</th>\n",
       "      <th>Country</th>\n",
       "      <th>Language</th>\n",
       "      <th>Running time (int)</th>\n",
       "      <th>Budget (float)</th>\n",
       "      <th>Box office (float)</th>\n",
       "      <th>Release date (datetime)</th>\n",
       "      <th>...</th>\n",
       "      <th>Based on</th>\n",
       "      <th>Starring</th>\n",
       "      <th>Music by</th>\n",
       "      <th>Distributed by</th>\n",
       "      <th>Budget</th>\n",
       "      <th>Year</th>\n",
       "      <th>Box office gross_GLB</th>\n",
       "      <th>Gross Int_GLB</th>\n",
       "      <th>Box office gross_US</th>\n",
       "      <th>Gross Int_US</th>\n",
       "    </tr>\n",
       "  </thead>\n",
       "  <tbody>\n",
       "    <tr>\n",
       "      <th>405</th>\n",
       "      <td>Dumbo</td>\n",
       "      <td>['Walt Disney Pictures', 'Tim Burton Productio...</td>\n",
       "      <td>2019-03-11</td>\n",
       "      <td>112 minutes</td>\n",
       "      <td>United States</td>\n",
       "      <td>English</td>\n",
       "      <td>112.0</td>\n",
       "      <td>170000000.0</td>\n",
       "      <td>3.533000e+08</td>\n",
       "      <td>2019-03-11</td>\n",
       "      <td>...</td>\n",
       "      <td>[\"Disney 's Dumbo by Otto Englander Joe Grant ...</td>\n",
       "      <td>['Colin Farrell', 'Michael Keaton', 'Danny DeV...</td>\n",
       "      <td>Danny Elfman</td>\n",
       "      <td>['Walt Disney Studios', 'Motion Pictures']</td>\n",
       "      <td>$170 million</td>\n",
       "      <td>2019.0</td>\n",
       "      <td>NaN</td>\n",
       "      <td>NaN</td>\n",
       "      <td>NaN</td>\n",
       "      <td>NaN</td>\n",
       "    </tr>\n",
       "    <tr>\n",
       "      <th>406</th>\n",
       "      <td>Penguins</td>\n",
       "      <td>['Disneynature', 'Silverback Films']</td>\n",
       "      <td>2019-04-17</td>\n",
       "      <td>76 minutes</td>\n",
       "      <td>United States</td>\n",
       "      <td>English</td>\n",
       "      <td>76.0</td>\n",
       "      <td>NaN</td>\n",
       "      <td>7.700000e+00</td>\n",
       "      <td>2019-04-17</td>\n",
       "      <td>...</td>\n",
       "      <td>NaN</td>\n",
       "      <td>NaN</td>\n",
       "      <td>Harry Gregson-Williams</td>\n",
       "      <td>Walt Disney Studios Motion Pictures</td>\n",
       "      <td>NaN</td>\n",
       "      <td>2019.0</td>\n",
       "      <td>NaN</td>\n",
       "      <td>NaN</td>\n",
       "      <td>NaN</td>\n",
       "      <td>NaN</td>\n",
       "    </tr>\n",
       "    <tr>\n",
       "      <th>407</th>\n",
       "      <td>Aladdin</td>\n",
       "      <td>['Walt Disney Pictures', 'Rideback', 'Marc Pla...</td>\n",
       "      <td>2019-05-08</td>\n",
       "      <td>128 minutes</td>\n",
       "      <td>United States</td>\n",
       "      <td>English</td>\n",
       "      <td>128.0</td>\n",
       "      <td>183000000.0</td>\n",
       "      <td>NaN</td>\n",
       "      <td>2019-05-08</td>\n",
       "      <td>...</td>\n",
       "      <td>[\"Disney 's Aladdin by Ron Clements John Muske...</td>\n",
       "      <td>['Mena Massoud', 'Naomi Scott', 'Will Smith', ...</td>\n",
       "      <td>Alan Menken</td>\n",
       "      <td>['Walt Disney Studios', 'Motion Pictures']</td>\n",
       "      <td>$183 million</td>\n",
       "      <td>2019.0</td>\n",
       "      <td>$1,051,693,953</td>\n",
       "      <td>1.051694e+09</td>\n",
       "      <td>$356,258,912</td>\n",
       "      <td>356258912.0</td>\n",
       "    </tr>\n",
       "    <tr>\n",
       "      <th>408</th>\n",
       "      <td>Toy Story 4</td>\n",
       "      <td>NaN</td>\n",
       "      <td>2019-06-11</td>\n",
       "      <td>100 minutes</td>\n",
       "      <td>United States</td>\n",
       "      <td>English</td>\n",
       "      <td>100.0</td>\n",
       "      <td>200000000.0</td>\n",
       "      <td>1.073000e+09</td>\n",
       "      <td>2019-06-11</td>\n",
       "      <td>...</td>\n",
       "      <td>NaN</td>\n",
       "      <td>['Tom Hanks', 'Tim Allen', 'Annie Potts', 'Ton...</td>\n",
       "      <td>Randy Newman</td>\n",
       "      <td>['Walt Disney Studios', 'Motion Pictures']</td>\n",
       "      <td>$200 million</td>\n",
       "      <td>2019.0</td>\n",
       "      <td>$1,073,394,593</td>\n",
       "      <td>1.073395e+09</td>\n",
       "      <td>$415,004,880</td>\n",
       "      <td>415004880.0</td>\n",
       "    </tr>\n",
       "    <tr>\n",
       "      <th>409</th>\n",
       "      <td>The Lion King</td>\n",
       "      <td>['Walt Disney Pictures', 'Fairview Entertainme...</td>\n",
       "      <td>2019-07-09</td>\n",
       "      <td>118 minutes</td>\n",
       "      <td>United States</td>\n",
       "      <td>English</td>\n",
       "      <td>118.0</td>\n",
       "      <td>250000000.0</td>\n",
       "      <td>1.657000e+09</td>\n",
       "      <td>2019-07-09</td>\n",
       "      <td>...</td>\n",
       "      <td>[\"Disney 's The Lion King by Irene Mecchi Jona...</td>\n",
       "      <td>['Donald Glover', 'Seth Rogen', 'Chiwetel Ejio...</td>\n",
       "      <td>Hans Zimmer</td>\n",
       "      <td>['Walt Disney Studios', 'Motion Pictures']</td>\n",
       "      <td>$250–260 million</td>\n",
       "      <td>2019.0</td>\n",
       "      <td>$1,657,598,092</td>\n",
       "      <td>1.657598e+09</td>\n",
       "      <td>$543,638,043</td>\n",
       "      <td>543638043.0</td>\n",
       "    </tr>\n",
       "  </tbody>\n",
       "</table>\n",
       "<p>5 rows × 26 columns</p>\n",
       "</div>"
      ],
      "text/plain": [
       "             title                                 Production company  \\\n",
       "405          Dumbo  ['Walt Disney Pictures', 'Tim Burton Productio...   \n",
       "406       Penguins               ['Disneynature', 'Silverback Films']   \n",
       "407        Aladdin  ['Walt Disney Pictures', 'Rideback', 'Marc Pla...   \n",
       "408    Toy Story 4                                                NaN   \n",
       "409  The Lion King  ['Walt Disney Pictures', 'Fairview Entertainme...   \n",
       "\n",
       "    Release date Running time        Country Language  Running time (int)  \\\n",
       "405   2019-03-11  112 minutes  United States  English               112.0   \n",
       "406   2019-04-17   76 minutes  United States  English                76.0   \n",
       "407   2019-05-08  128 minutes  United States  English               128.0   \n",
       "408   2019-06-11  100 minutes  United States  English               100.0   \n",
       "409   2019-07-09  118 minutes  United States  English               118.0   \n",
       "\n",
       "     Budget (float)  Box office (float) Release date (datetime)  ...  \\\n",
       "405     170000000.0        3.533000e+08              2019-03-11  ...   \n",
       "406             NaN        7.700000e+00              2019-04-17  ...   \n",
       "407     183000000.0                 NaN              2019-05-08  ...   \n",
       "408     200000000.0        1.073000e+09              2019-06-11  ...   \n",
       "409     250000000.0        1.657000e+09              2019-07-09  ...   \n",
       "\n",
       "                                              Based on  \\\n",
       "405  [\"Disney 's Dumbo by Otto Englander Joe Grant ...   \n",
       "406                                                NaN   \n",
       "407  [\"Disney 's Aladdin by Ron Clements John Muske...   \n",
       "408                                                NaN   \n",
       "409  [\"Disney 's The Lion King by Irene Mecchi Jona...   \n",
       "\n",
       "                                              Starring  \\\n",
       "405  ['Colin Farrell', 'Michael Keaton', 'Danny DeV...   \n",
       "406                                                NaN   \n",
       "407  ['Mena Massoud', 'Naomi Scott', 'Will Smith', ...   \n",
       "408  ['Tom Hanks', 'Tim Allen', 'Annie Potts', 'Ton...   \n",
       "409  ['Donald Glover', 'Seth Rogen', 'Chiwetel Ejio...   \n",
       "\n",
       "                   Music by                              Distributed by  \\\n",
       "405            Danny Elfman  ['Walt Disney Studios', 'Motion Pictures']   \n",
       "406  Harry Gregson-Williams         Walt Disney Studios Motion Pictures   \n",
       "407             Alan Menken  ['Walt Disney Studios', 'Motion Pictures']   \n",
       "408            Randy Newman  ['Walt Disney Studios', 'Motion Pictures']   \n",
       "409             Hans Zimmer  ['Walt Disney Studios', 'Motion Pictures']   \n",
       "\n",
       "               Budget    Year Box office gross_GLB Gross Int_GLB  \\\n",
       "405      $170 million  2019.0                  NaN           NaN   \n",
       "406               NaN  2019.0                  NaN           NaN   \n",
       "407      $183 million  2019.0       $1,051,693,953  1.051694e+09   \n",
       "408      $200 million  2019.0       $1,073,394,593  1.073395e+09   \n",
       "409  $250–260 million  2019.0       $1,657,598,092  1.657598e+09   \n",
       "\n",
       "    Box office gross_US Gross Int_US  \n",
       "405                 NaN          NaN  \n",
       "406                 NaN          NaN  \n",
       "407        $356,258,912  356258912.0  \n",
       "408        $415,004,880  415004880.0  \n",
       "409        $543,638,043  543638043.0  \n",
       "\n",
       "[5 rows x 26 columns]"
      ]
     },
     "execution_count": 14,
     "metadata": {},
     "output_type": "execute_result"
    }
   ],
   "source": [
    "disney_df = pd.merge(movie_df, boxoffice_df, how='outer', \n",
    "                     left_on=['title', 'Year'], right_on=['Title', 'Year'])\n",
    "disney_df = disney_df.drop('Title', axis=1)\n",
    "disney_df[405:410]"
   ]
  },
  {
   "cell_type": "markdown",
   "metadata": {},
   "source": [
    "Since the box office dataset only includes information in the top 50 domestically and globally, many of the films have N/A where that information would be. This is due to the fact that we used the outer-join method."
   ]
  },
  {
   "cell_type": "markdown",
   "metadata": {},
   "source": [
    "### Music Centric Dataset"
   ]
  },
  {
   "cell_type": "markdown",
   "metadata": {},
   "source": [
    "Now we will create an additional dataset that focuses on the music information from Spotify. Since the music data only pertains to a small portion of the film data, we will do an inner join to transpose the film's box office and demographic information to the songs from that particular movie."
   ]
  },
  {
   "cell_type": "code",
   "execution_count": 15,
   "metadata": {},
   "outputs": [
    {
     "data": {
      "text/html": [
       "<div>\n",
       "<style scoped>\n",
       "    .dataframe tbody tr th:only-of-type {\n",
       "        vertical-align: middle;\n",
       "    }\n",
       "\n",
       "    .dataframe tbody tr th {\n",
       "        vertical-align: top;\n",
       "    }\n",
       "\n",
       "    .dataframe thead th {\n",
       "        text-align: right;\n",
       "    }\n",
       "</style>\n",
       "<table border=\"1\" class=\"dataframe\">\n",
       "  <thead>\n",
       "    <tr style=\"text-align: right;\">\n",
       "      <th></th>\n",
       "      <th>track</th>\n",
       "      <th>movie</th>\n",
       "      <th>artist_name</th>\n",
       "      <th>album</th>\n",
       "      <th>duration</th>\n",
       "      <th>popularity</th>\n",
       "      <th>pop_scaled</th>\n",
       "      <th>track_id</th>\n",
       "      <th>Production company</th>\n",
       "      <th>Release date</th>\n",
       "      <th>...</th>\n",
       "      <th>Based on</th>\n",
       "      <th>Starring</th>\n",
       "      <th>Music by</th>\n",
       "      <th>Distributed by</th>\n",
       "      <th>Budget</th>\n",
       "      <th>Year</th>\n",
       "      <th>Box office gross_GLB</th>\n",
       "      <th>Gross Int_GLB</th>\n",
       "      <th>Box office gross_US</th>\n",
       "      <th>Gross Int_US</th>\n",
       "    </tr>\n",
       "  </thead>\n",
       "  <tbody>\n",
       "    <tr>\n",
       "      <th>0</th>\n",
       "      <td>You're Welcome</td>\n",
       "      <td>Moana</td>\n",
       "      <td>Dwayne Johnson</td>\n",
       "      <td>Moana (Original Motion Picture Soundtrack/Delu...</td>\n",
       "      <td>02:43</td>\n",
       "      <td>73</td>\n",
       "      <td>75.000000</td>\n",
       "      <td>6U4VqEHy4n5VeiH4pQPL24</td>\n",
       "      <td>NaN</td>\n",
       "      <td>2016-11-14</td>\n",
       "      <td>...</td>\n",
       "      <td>NaN</td>\n",
       "      <td>['Auliʻi Cravalho', 'Dwayne Johnson', 'Rachel ...</td>\n",
       "      <td>['Mark Mancina', 'Lin-Manuel Miranda', \"Opetai...</td>\n",
       "      <td>['Walt Disney Studios', 'Motion Pictures']</td>\n",
       "      <td>$150–175 million</td>\n",
       "      <td>2016.0</td>\n",
       "      <td>NaN</td>\n",
       "      <td>NaN</td>\n",
       "      <td>$248,757,044</td>\n",
       "      <td>248757044.0</td>\n",
       "    </tr>\n",
       "    <tr>\n",
       "      <th>1</th>\n",
       "      <td>How Far I'll Go</td>\n",
       "      <td>Moana</td>\n",
       "      <td>Auli'i Cravalho</td>\n",
       "      <td>Moana (Original Motion Picture Soundtrack/Delu...</td>\n",
       "      <td>02:43</td>\n",
       "      <td>72</td>\n",
       "      <td>71.428571</td>\n",
       "      <td>6mb6lVLNrcUgLnEN8QnDJd</td>\n",
       "      <td>NaN</td>\n",
       "      <td>2016-11-14</td>\n",
       "      <td>...</td>\n",
       "      <td>NaN</td>\n",
       "      <td>['Auliʻi Cravalho', 'Dwayne Johnson', 'Rachel ...</td>\n",
       "      <td>['Mark Mancina', 'Lin-Manuel Miranda', \"Opetai...</td>\n",
       "      <td>['Walt Disney Studios', 'Motion Pictures']</td>\n",
       "      <td>$150–175 million</td>\n",
       "      <td>2016.0</td>\n",
       "      <td>NaN</td>\n",
       "      <td>NaN</td>\n",
       "      <td>$248,757,044</td>\n",
       "      <td>248757044.0</td>\n",
       "    </tr>\n",
       "    <tr>\n",
       "      <th>2</th>\n",
       "      <td>Where You Are</td>\n",
       "      <td>Moana</td>\n",
       "      <td>Christopher Jackson</td>\n",
       "      <td>Moana (Original Motion Picture Soundtrack/Delu...</td>\n",
       "      <td>03:30</td>\n",
       "      <td>67</td>\n",
       "      <td>53.571429</td>\n",
       "      <td>2bwSCIuNtVrQPVddCi8sOW</td>\n",
       "      <td>NaN</td>\n",
       "      <td>2016-11-14</td>\n",
       "      <td>...</td>\n",
       "      <td>NaN</td>\n",
       "      <td>['Auliʻi Cravalho', 'Dwayne Johnson', 'Rachel ...</td>\n",
       "      <td>['Mark Mancina', 'Lin-Manuel Miranda', \"Opetai...</td>\n",
       "      <td>['Walt Disney Studios', 'Motion Pictures']</td>\n",
       "      <td>$150–175 million</td>\n",
       "      <td>2016.0</td>\n",
       "      <td>NaN</td>\n",
       "      <td>NaN</td>\n",
       "      <td>$248,757,044</td>\n",
       "      <td>248757044.0</td>\n",
       "    </tr>\n",
       "    <tr>\n",
       "      <th>3</th>\n",
       "      <td>Hakuna Matata</td>\n",
       "      <td>The Lion King</td>\n",
       "      <td>Nathan Lane</td>\n",
       "      <td>The Lion King</td>\n",
       "      <td>03:33</td>\n",
       "      <td>71</td>\n",
       "      <td>67.857143</td>\n",
       "      <td>5k3U0OGYBccHdKJJu3HrUN</td>\n",
       "      <td>['Walt Disney Pictures', 'Walt Disney Feature ...</td>\n",
       "      <td>1994-06-24</td>\n",
       "      <td>...</td>\n",
       "      <td>['Hamlet', 'by', 'William Shakespeare']</td>\n",
       "      <td>['Jonathan Taylor Thomas', 'Matthew Broderick'...</td>\n",
       "      <td>Hans Zimmer</td>\n",
       "      <td>Buena Vista Pictures</td>\n",
       "      <td>$45 million</td>\n",
       "      <td>1994.0</td>\n",
       "      <td>$968,554,386</td>\n",
       "      <td>9.685544e+08</td>\n",
       "      <td>$422,783,777</td>\n",
       "      <td>422783777.0</td>\n",
       "    </tr>\n",
       "    <tr>\n",
       "      <th>4</th>\n",
       "      <td>Hakuna Matata</td>\n",
       "      <td>The Lion King</td>\n",
       "      <td>Nathan Lane</td>\n",
       "      <td>The Lion King</td>\n",
       "      <td>03:33</td>\n",
       "      <td>71</td>\n",
       "      <td>67.857143</td>\n",
       "      <td>5k3U0OGYBccHdKJJu3HrUN</td>\n",
       "      <td>['Walt Disney Pictures', 'Fairview Entertainme...</td>\n",
       "      <td>2019-07-09</td>\n",
       "      <td>...</td>\n",
       "      <td>[\"Disney 's The Lion King by Irene Mecchi Jona...</td>\n",
       "      <td>['Donald Glover', 'Seth Rogen', 'Chiwetel Ejio...</td>\n",
       "      <td>Hans Zimmer</td>\n",
       "      <td>['Walt Disney Studios', 'Motion Pictures']</td>\n",
       "      <td>$250–260 million</td>\n",
       "      <td>2019.0</td>\n",
       "      <td>$1,657,598,092</td>\n",
       "      <td>1.657598e+09</td>\n",
       "      <td>$543,638,043</td>\n",
       "      <td>543638043.0</td>\n",
       "    </tr>\n",
       "  </tbody>\n",
       "</table>\n",
       "<p>5 rows × 33 columns</p>\n",
       "</div>"
      ],
      "text/plain": [
       "             track          movie          artist_name  \\\n",
       "0   You're Welcome          Moana       Dwayne Johnson   \n",
       "1  How Far I'll Go          Moana      Auli'i Cravalho   \n",
       "2    Where You Are          Moana  Christopher Jackson   \n",
       "3   Hakuna Matata   The Lion King          Nathan Lane   \n",
       "4   Hakuna Matata   The Lion King          Nathan Lane   \n",
       "\n",
       "                                               album duration  popularity  \\\n",
       "0  Moana (Original Motion Picture Soundtrack/Delu...    02:43          73   \n",
       "1  Moana (Original Motion Picture Soundtrack/Delu...    02:43          72   \n",
       "2  Moana (Original Motion Picture Soundtrack/Delu...    03:30          67   \n",
       "3                                      The Lion King    03:33          71   \n",
       "4                                      The Lion King    03:33          71   \n",
       "\n",
       "   pop_scaled                track_id  \\\n",
       "0   75.000000  6U4VqEHy4n5VeiH4pQPL24   \n",
       "1   71.428571  6mb6lVLNrcUgLnEN8QnDJd   \n",
       "2   53.571429  2bwSCIuNtVrQPVddCi8sOW   \n",
       "3   67.857143  5k3U0OGYBccHdKJJu3HrUN   \n",
       "4   67.857143  5k3U0OGYBccHdKJJu3HrUN   \n",
       "\n",
       "                                  Production company Release date  ...  \\\n",
       "0                                                NaN   2016-11-14  ...   \n",
       "1                                                NaN   2016-11-14  ...   \n",
       "2                                                NaN   2016-11-14  ...   \n",
       "3  ['Walt Disney Pictures', 'Walt Disney Feature ...   1994-06-24  ...   \n",
       "4  ['Walt Disney Pictures', 'Fairview Entertainme...   2019-07-09  ...   \n",
       "\n",
       "                                            Based on  \\\n",
       "0                                                NaN   \n",
       "1                                                NaN   \n",
       "2                                                NaN   \n",
       "3            ['Hamlet', 'by', 'William Shakespeare']   \n",
       "4  [\"Disney 's The Lion King by Irene Mecchi Jona...   \n",
       "\n",
       "                                            Starring  \\\n",
       "0  ['Auliʻi Cravalho', 'Dwayne Johnson', 'Rachel ...   \n",
       "1  ['Auliʻi Cravalho', 'Dwayne Johnson', 'Rachel ...   \n",
       "2  ['Auliʻi Cravalho', 'Dwayne Johnson', 'Rachel ...   \n",
       "3  ['Jonathan Taylor Thomas', 'Matthew Broderick'...   \n",
       "4  ['Donald Glover', 'Seth Rogen', 'Chiwetel Ejio...   \n",
       "\n",
       "                                            Music by  \\\n",
       "0  ['Mark Mancina', 'Lin-Manuel Miranda', \"Opetai...   \n",
       "1  ['Mark Mancina', 'Lin-Manuel Miranda', \"Opetai...   \n",
       "2  ['Mark Mancina', 'Lin-Manuel Miranda', \"Opetai...   \n",
       "3                                        Hans Zimmer   \n",
       "4                                        Hans Zimmer   \n",
       "\n",
       "                               Distributed by            Budget    Year  \\\n",
       "0  ['Walt Disney Studios', 'Motion Pictures']  $150–175 million  2016.0   \n",
       "1  ['Walt Disney Studios', 'Motion Pictures']  $150–175 million  2016.0   \n",
       "2  ['Walt Disney Studios', 'Motion Pictures']  $150–175 million  2016.0   \n",
       "3                        Buena Vista Pictures       $45 million  1994.0   \n",
       "4  ['Walt Disney Studios', 'Motion Pictures']  $250–260 million  2019.0   \n",
       "\n",
       "  Box office gross_GLB  Gross Int_GLB  Box office gross_US Gross Int_US  \n",
       "0                  NaN            NaN         $248,757,044  248757044.0  \n",
       "1                  NaN            NaN         $248,757,044  248757044.0  \n",
       "2                  NaN            NaN         $248,757,044  248757044.0  \n",
       "3         $968,554,386   9.685544e+08         $422,783,777  422783777.0  \n",
       "4       $1,657,598,092   1.657598e+09         $543,638,043  543638043.0  \n",
       "\n",
       "[5 rows x 33 columns]"
      ]
     },
     "execution_count": 15,
     "metadata": {},
     "output_type": "execute_result"
    }
   ],
   "source": [
    "disney_df2 = pd.merge(music_df, disney_df, how='inner',\n",
    "                     left_on='movie', right_on='title')\n",
    "disney_df2 = disney_df2.drop(['title'], axis=1)\n",
    "disney_df2.head()"
   ]
  },
  {
   "cell_type": "code",
   "execution_count": 18,
   "metadata": {},
   "outputs": [],
   "source": [
    "disney_df2.to_csv('disney.csv', index=False)"
   ]
  },
  {
   "cell_type": "markdown",
   "metadata": {},
   "source": [
    "### Sorting & Indexing"
   ]
  },
  {
   "cell_type": "markdown",
   "metadata": {},
   "source": [
    "We can get a good view of the songs by film by creating a hierarchical index."
   ]
  },
  {
   "cell_type": "code",
   "execution_count": 16,
   "metadata": {},
   "outputs": [
    {
     "data": {
      "text/html": [
       "<div>\n",
       "<style scoped>\n",
       "    .dataframe tbody tr th:only-of-type {\n",
       "        vertical-align: middle;\n",
       "    }\n",
       "\n",
       "    .dataframe tbody tr th {\n",
       "        vertical-align: top;\n",
       "    }\n",
       "\n",
       "    .dataframe thead th {\n",
       "        text-align: right;\n",
       "    }\n",
       "</style>\n",
       "<table border=\"1\" class=\"dataframe\">\n",
       "  <thead>\n",
       "    <tr style=\"text-align: right;\">\n",
       "      <th></th>\n",
       "      <th></th>\n",
       "      <th>artist_name</th>\n",
       "      <th>album</th>\n",
       "      <th>duration</th>\n",
       "      <th>popularity</th>\n",
       "      <th>pop_scaled</th>\n",
       "      <th>track_id</th>\n",
       "      <th>Production company</th>\n",
       "      <th>Release date</th>\n",
       "      <th>Running time</th>\n",
       "      <th>Country</th>\n",
       "      <th>...</th>\n",
       "      <th>Based on</th>\n",
       "      <th>Starring</th>\n",
       "      <th>Music by</th>\n",
       "      <th>Distributed by</th>\n",
       "      <th>Budget</th>\n",
       "      <th>Year</th>\n",
       "      <th>Box office gross_GLB</th>\n",
       "      <th>Gross Int_GLB</th>\n",
       "      <th>Box office gross_US</th>\n",
       "      <th>Gross Int_US</th>\n",
       "    </tr>\n",
       "    <tr>\n",
       "      <th>movie</th>\n",
       "      <th>track</th>\n",
       "      <th></th>\n",
       "      <th></th>\n",
       "      <th></th>\n",
       "      <th></th>\n",
       "      <th></th>\n",
       "      <th></th>\n",
       "      <th></th>\n",
       "      <th></th>\n",
       "      <th></th>\n",
       "      <th></th>\n",
       "      <th></th>\n",
       "      <th></th>\n",
       "      <th></th>\n",
       "      <th></th>\n",
       "      <th></th>\n",
       "      <th></th>\n",
       "      <th></th>\n",
       "      <th></th>\n",
       "      <th></th>\n",
       "      <th></th>\n",
       "      <th></th>\n",
       "    </tr>\n",
       "  </thead>\n",
       "  <tbody>\n",
       "    <tr>\n",
       "      <th>The Lion King</th>\n",
       "      <th>I Just Can't Wait to Be King</th>\n",
       "      <td>Jason Weaver</td>\n",
       "      <td>The Lion King</td>\n",
       "      <td>02:50</td>\n",
       "      <td>71</td>\n",
       "      <td>67.857143</td>\n",
       "      <td>0qxtQ8rf3W1nId3D2r0xH4</td>\n",
       "      <td>['Walt Disney Pictures', 'Fairview Entertainme...</td>\n",
       "      <td>2019-07-09</td>\n",
       "      <td>118 minutes</td>\n",
       "      <td>United States</td>\n",
       "      <td>...</td>\n",
       "      <td>[\"Disney 's The Lion King by Irene Mecchi Jona...</td>\n",
       "      <td>['Donald Glover', 'Seth Rogen', 'Chiwetel Ejio...</td>\n",
       "      <td>Hans Zimmer</td>\n",
       "      <td>['Walt Disney Studios', 'Motion Pictures']</td>\n",
       "      <td>$250–260 million</td>\n",
       "      <td>2019.0</td>\n",
       "      <td>$1,657,598,092</td>\n",
       "      <td>1.657598e+09</td>\n",
       "      <td>$543,638,043</td>\n",
       "      <td>543638043.0</td>\n",
       "    </tr>\n",
       "    <tr>\n",
       "      <th rowspan=\"2\" valign=\"top\">The Princess and the Frog</th>\n",
       "      <th>Dig a Little Deeper</th>\n",
       "      <td>Jenifer Lewis</td>\n",
       "      <td>The Princess and the Frog (Original Motion Pic...</td>\n",
       "      <td>02:47</td>\n",
       "      <td>64</td>\n",
       "      <td>42.857143</td>\n",
       "      <td>7kh64k3P9Fk4EsA6vOdwmj</td>\n",
       "      <td>['Walt Disney Pictures', 'Walt Disney Animatio...</td>\n",
       "      <td>2009-11-25</td>\n",
       "      <td>97 minutes</td>\n",
       "      <td>United States</td>\n",
       "      <td>...</td>\n",
       "      <td>['The Frog Prince by Brothers Grimm', 'The Fro...</td>\n",
       "      <td>['Anika Noni Rose', 'Bruno Campos', 'Keith Dav...</td>\n",
       "      <td>Randy Newman</td>\n",
       "      <td>['Walt Disney Studios', 'Motion Pictures']</td>\n",
       "      <td>$105 million</td>\n",
       "      <td>2009.0</td>\n",
       "      <td>NaN</td>\n",
       "      <td>NaN</td>\n",
       "      <td>NaN</td>\n",
       "      <td>NaN</td>\n",
       "    </tr>\n",
       "    <tr>\n",
       "      <th>Down in New Orleans (Finale)</th>\n",
       "      <td>Anika Noni Rose</td>\n",
       "      <td>The Princess and the Frog (Original Motion Pic...</td>\n",
       "      <td>01:35</td>\n",
       "      <td>60</td>\n",
       "      <td>28.571429</td>\n",
       "      <td>1fvc8FP8MUrIbHGYb4kF89</td>\n",
       "      <td>['Walt Disney Pictures', 'Walt Disney Animatio...</td>\n",
       "      <td>2009-11-25</td>\n",
       "      <td>97 minutes</td>\n",
       "      <td>United States</td>\n",
       "      <td>...</td>\n",
       "      <td>['The Frog Prince by Brothers Grimm', 'The Fro...</td>\n",
       "      <td>['Anika Noni Rose', 'Bruno Campos', 'Keith Dav...</td>\n",
       "      <td>Randy Newman</td>\n",
       "      <td>['Walt Disney Studios', 'Motion Pictures']</td>\n",
       "      <td>$105 million</td>\n",
       "      <td>2009.0</td>\n",
       "      <td>NaN</td>\n",
       "      <td>NaN</td>\n",
       "      <td>NaN</td>\n",
       "      <td>NaN</td>\n",
       "    </tr>\n",
       "    <tr>\n",
       "      <th>Toy Story</th>\n",
       "      <th>You've Got a Friend in Me</th>\n",
       "      <td>Randy Newman</td>\n",
       "      <td>Toy Story</td>\n",
       "      <td>02:04</td>\n",
       "      <td>69</td>\n",
       "      <td>60.714286</td>\n",
       "      <td>2stkLJ0JNcXkIRDNF3ld6c</td>\n",
       "      <td>['Walt Disney Pictures', 'Pixar Animation Stud...</td>\n",
       "      <td>1995-11-19</td>\n",
       "      <td>81 minutes</td>\n",
       "      <td>United States</td>\n",
       "      <td>...</td>\n",
       "      <td>NaN</td>\n",
       "      <td>['Tom Hanks', 'Tim Allen', 'Don Rickles', 'Jim...</td>\n",
       "      <td>Randy Newman</td>\n",
       "      <td>Buena Vista Pictures Distribution</td>\n",
       "      <td>$30 million</td>\n",
       "      <td>1995.0</td>\n",
       "      <td>NaN</td>\n",
       "      <td>NaN</td>\n",
       "      <td>NaN</td>\n",
       "      <td>NaN</td>\n",
       "    </tr>\n",
       "    <tr>\n",
       "      <th>Zootopia</th>\n",
       "      <th>Try Everything</th>\n",
       "      <td>Shakira</td>\n",
       "      <td>Zootopia (Original Motion Picture Soundtrack)</td>\n",
       "      <td>03:16</td>\n",
       "      <td>69</td>\n",
       "      <td>60.714286</td>\n",
       "      <td>1N3dZ7TTWO6VcD4Y3hHYLZ</td>\n",
       "      <td>['Walt Disney Pictures', 'Walt Disney Animatio...</td>\n",
       "      <td>2016-02-13</td>\n",
       "      <td>108 minutes</td>\n",
       "      <td>United States</td>\n",
       "      <td>...</td>\n",
       "      <td>NaN</td>\n",
       "      <td>['Ginnifer Goodwin', 'Jason Bateman', 'Idris E...</td>\n",
       "      <td>Michael Giacchino</td>\n",
       "      <td>['Walt Disney Studios', 'Motion Pictures']</td>\n",
       "      <td>$150 million</td>\n",
       "      <td>2016.0</td>\n",
       "      <td>$1,024,641,447</td>\n",
       "      <td>1.024641e+09</td>\n",
       "      <td>$342,268,248</td>\n",
       "      <td>342268248.0</td>\n",
       "    </tr>\n",
       "  </tbody>\n",
       "</table>\n",
       "<p>5 rows × 31 columns</p>\n",
       "</div>"
      ],
      "text/plain": [
       "                                                             artist_name  \\\n",
       "movie                     track                                            \n",
       "The Lion King             I Just Can't Wait to Be King      Jason Weaver   \n",
       "The Princess and the Frog Dig a Little Deeper              Jenifer Lewis   \n",
       "                          Down in New Orleans (Finale)   Anika Noni Rose   \n",
       "Toy Story                 You've Got a Friend in Me         Randy Newman   \n",
       "Zootopia                  Try Everything                         Shakira   \n",
       "\n",
       "                                                                                                     album  \\\n",
       "movie                     track                                                                              \n",
       "The Lion King             I Just Can't Wait to Be King                                       The Lion King   \n",
       "The Princess and the Frog Dig a Little Deeper            The Princess and the Frog (Original Motion Pic...   \n",
       "                          Down in New Orleans (Finale)   The Princess and the Frog (Original Motion Pic...   \n",
       "Toy Story                 You've Got a Friend in Me                                              Toy Story   \n",
       "Zootopia                  Try Everything                     Zootopia (Original Motion Picture Soundtrack)   \n",
       "\n",
       "                                                        duration  popularity  \\\n",
       "movie                     track                                                \n",
       "The Lion King             I Just Can't Wait to Be King     02:50          71   \n",
       "The Princess and the Frog Dig a Little Deeper              02:47          64   \n",
       "                          Down in New Orleans (Finale)     01:35          60   \n",
       "Toy Story                 You've Got a Friend in Me        02:04          69   \n",
       "Zootopia                  Try Everything                   03:16          69   \n",
       "\n",
       "                                                         pop_scaled  \\\n",
       "movie                     track                                       \n",
       "The Lion King             I Just Can't Wait to Be King    67.857143   \n",
       "The Princess and the Frog Dig a Little Deeper             42.857143   \n",
       "                          Down in New Orleans (Finale)    28.571429   \n",
       "Toy Story                 You've Got a Friend in Me       60.714286   \n",
       "Zootopia                  Try Everything                  60.714286   \n",
       "\n",
       "                                                                       track_id  \\\n",
       "movie                     track                                                   \n",
       "The Lion King             I Just Can't Wait to Be King   0qxtQ8rf3W1nId3D2r0xH4   \n",
       "The Princess and the Frog Dig a Little Deeper            7kh64k3P9Fk4EsA6vOdwmj   \n",
       "                          Down in New Orleans (Finale)   1fvc8FP8MUrIbHGYb4kF89   \n",
       "Toy Story                 You've Got a Friend in Me      2stkLJ0JNcXkIRDNF3ld6c   \n",
       "Zootopia                  Try Everything                 1N3dZ7TTWO6VcD4Y3hHYLZ   \n",
       "\n",
       "                                                                                        Production company  \\\n",
       "movie                     track                                                                              \n",
       "The Lion King             I Just Can't Wait to Be King   ['Walt Disney Pictures', 'Fairview Entertainme...   \n",
       "The Princess and the Frog Dig a Little Deeper            ['Walt Disney Pictures', 'Walt Disney Animatio...   \n",
       "                          Down in New Orleans (Finale)   ['Walt Disney Pictures', 'Walt Disney Animatio...   \n",
       "Toy Story                 You've Got a Friend in Me      ['Walt Disney Pictures', 'Pixar Animation Stud...   \n",
       "Zootopia                  Try Everything                 ['Walt Disney Pictures', 'Walt Disney Animatio...   \n",
       "\n",
       "                                                        Release date  \\\n",
       "movie                     track                                        \n",
       "The Lion King             I Just Can't Wait to Be King    2019-07-09   \n",
       "The Princess and the Frog Dig a Little Deeper             2009-11-25   \n",
       "                          Down in New Orleans (Finale)    2009-11-25   \n",
       "Toy Story                 You've Got a Friend in Me       1995-11-19   \n",
       "Zootopia                  Try Everything                  2016-02-13   \n",
       "\n",
       "                                                        Running time  \\\n",
       "movie                     track                                        \n",
       "The Lion King             I Just Can't Wait to Be King   118 minutes   \n",
       "The Princess and the Frog Dig a Little Deeper             97 minutes   \n",
       "                          Down in New Orleans (Finale)    97 minutes   \n",
       "Toy Story                 You've Got a Friend in Me       81 minutes   \n",
       "Zootopia                  Try Everything                 108 minutes   \n",
       "\n",
       "                                                               Country  ...  \\\n",
       "movie                     track                                         ...   \n",
       "The Lion King             I Just Can't Wait to Be King   United States  ...   \n",
       "The Princess and the Frog Dig a Little Deeper            United States  ...   \n",
       "                          Down in New Orleans (Finale)   United States  ...   \n",
       "Toy Story                 You've Got a Friend in Me      United States  ...   \n",
       "Zootopia                  Try Everything                 United States  ...   \n",
       "\n",
       "                                                                                                  Based on  \\\n",
       "movie                     track                                                                              \n",
       "The Lion King             I Just Can't Wait to Be King   [\"Disney 's The Lion King by Irene Mecchi Jona...   \n",
       "The Princess and the Frog Dig a Little Deeper            ['The Frog Prince by Brothers Grimm', 'The Fro...   \n",
       "                          Down in New Orleans (Finale)   ['The Frog Prince by Brothers Grimm', 'The Fro...   \n",
       "Toy Story                 You've Got a Friend in Me                                                    NaN   \n",
       "Zootopia                  Try Everything                                                               NaN   \n",
       "\n",
       "                                                                                                  Starring  \\\n",
       "movie                     track                                                                              \n",
       "The Lion King             I Just Can't Wait to Be King   ['Donald Glover', 'Seth Rogen', 'Chiwetel Ejio...   \n",
       "The Princess and the Frog Dig a Little Deeper            ['Anika Noni Rose', 'Bruno Campos', 'Keith Dav...   \n",
       "                          Down in New Orleans (Finale)   ['Anika Noni Rose', 'Bruno Campos', 'Keith Dav...   \n",
       "Toy Story                 You've Got a Friend in Me      ['Tom Hanks', 'Tim Allen', 'Don Rickles', 'Jim...   \n",
       "Zootopia                  Try Everything                 ['Ginnifer Goodwin', 'Jason Bateman', 'Idris E...   \n",
       "\n",
       "                                                                  Music by  \\\n",
       "movie                     track                                              \n",
       "The Lion King             I Just Can't Wait to Be King         Hans Zimmer   \n",
       "The Princess and the Frog Dig a Little Deeper                 Randy Newman   \n",
       "                          Down in New Orleans (Finale)        Randy Newman   \n",
       "Toy Story                 You've Got a Friend in Me           Randy Newman   \n",
       "Zootopia                  Try Everything                 Michael Giacchino   \n",
       "\n",
       "                                                                                     Distributed by  \\\n",
       "movie                     track                                                                       \n",
       "The Lion King             I Just Can't Wait to Be King   ['Walt Disney Studios', 'Motion Pictures']   \n",
       "The Princess and the Frog Dig a Little Deeper            ['Walt Disney Studios', 'Motion Pictures']   \n",
       "                          Down in New Orleans (Finale)   ['Walt Disney Studios', 'Motion Pictures']   \n",
       "Toy Story                 You've Got a Friend in Me               Buena Vista Pictures Distribution   \n",
       "Zootopia                  Try Everything                 ['Walt Disney Studios', 'Motion Pictures']   \n",
       "\n",
       "                                                                   Budget  \\\n",
       "movie                     track                                             \n",
       "The Lion King             I Just Can't Wait to Be King   $250–260 million   \n",
       "The Princess and the Frog Dig a Little Deeper                $105 million   \n",
       "                          Down in New Orleans (Finale)       $105 million   \n",
       "Toy Story                 You've Got a Friend in Me           $30 million   \n",
       "Zootopia                  Try Everything                     $150 million   \n",
       "\n",
       "                                                           Year  \\\n",
       "movie                     track                                   \n",
       "The Lion King             I Just Can't Wait to Be King   2019.0   \n",
       "The Princess and the Frog Dig a Little Deeper            2009.0   \n",
       "                          Down in New Orleans (Finale)   2009.0   \n",
       "Toy Story                 You've Got a Friend in Me      1995.0   \n",
       "Zootopia                  Try Everything                 2016.0   \n",
       "\n",
       "                                                         Box office gross_GLB  \\\n",
       "movie                     track                                                 \n",
       "The Lion King             I Just Can't Wait to Be King         $1,657,598,092   \n",
       "The Princess and the Frog Dig a Little Deeper                             NaN   \n",
       "                          Down in New Orleans (Finale)                    NaN   \n",
       "Toy Story                 You've Got a Friend in Me                       NaN   \n",
       "Zootopia                  Try Everything                       $1,024,641,447   \n",
       "\n",
       "                                                        Gross Int_GLB  \\\n",
       "movie                     track                                         \n",
       "The Lion King             I Just Can't Wait to Be King   1.657598e+09   \n",
       "The Princess and the Frog Dig a Little Deeper                     NaN   \n",
       "                          Down in New Orleans (Finale)            NaN   \n",
       "Toy Story                 You've Got a Friend in Me               NaN   \n",
       "Zootopia                  Try Everything                 1.024641e+09   \n",
       "\n",
       "                                                        Box office gross_US  \\\n",
       "movie                     track                                               \n",
       "The Lion King             I Just Can't Wait to Be King         $543,638,043   \n",
       "The Princess and the Frog Dig a Little Deeper                           NaN   \n",
       "                          Down in New Orleans (Finale)                  NaN   \n",
       "Toy Story                 You've Got a Friend in Me                     NaN   \n",
       "Zootopia                  Try Everything                       $342,268,248   \n",
       "\n",
       "                                                        Gross Int_US  \n",
       "movie                     track                                       \n",
       "The Lion King             I Just Can't Wait to Be King   543638043.0  \n",
       "The Princess and the Frog Dig a Little Deeper                    NaN  \n",
       "                          Down in New Orleans (Finale)           NaN  \n",
       "Toy Story                 You've Got a Friend in Me              NaN  \n",
       "Zootopia                  Try Everything                 342268248.0  \n",
       "\n",
       "[5 rows x 31 columns]"
      ]
     },
     "execution_count": 16,
     "metadata": {},
     "output_type": "execute_result"
    }
   ],
   "source": [
    "disney_df3 = disney_df2.set_index(['movie', 'track']).sort_index()\n",
    "disney_df3.tail()"
   ]
  },
  {
   "cell_type": "markdown",
   "metadata": {},
   "source": [
    "### Uploading Music Dataset to Database"
   ]
  },
  {
   "cell_type": "code",
   "execution_count": 17,
   "metadata": {},
   "outputs": [
    {
     "name": "stdout",
     "output_type": "stream",
     "text": [
      "(0, \"You're Welcome\", 'Moana', 'Dwayne Johnson', 'Moana (Original Motion Picture Soundtrack/Deluxe Edition)', '02:43', 73, 75.0, '6U4VqEHy4n5VeiH4pQPL24', None, '2016-11-14', '107 minutes', \"['United States']\", 'English', 107.0, 150000000.0, 690800000.0, '2016-11-14', 7.6, 81.0, '95%', \"['Ron Clements', 'John Musker']\", 'Osnat Shurer', None, None, \"['Auliʻi Cravalho', 'Dwayne Johnson', 'Rachel House', 'Temuera Morrison', 'Jemaine Clement', 'Nicole Scherzinger', 'Alan Tudyk']\", '[\\'Mark Mancina\\', \\'Lin-Manuel Miranda\\', \"Opetaia Foa\\'i\"]', \"['Walt Disney Studios', 'Motion Pictures']\", '$150–175 million', 2016.0, None, None, '$248,757,044', 248757044.0)\n"
     ]
    }
   ],
   "source": [
    "with engine.begin() as conn:\n",
    "    disney_df2.to_sql('disney_data', con=conn, if_exists='append')\n",
    "    rows = engine.execute(\"SELECT * FROM disney_data LIMIT 1\")\n",
    "    for row in rows:\n",
    "        print(row)"
   ]
  },
  {
   "cell_type": "markdown",
   "metadata": {},
   "source": [
    "### Visualizations"
   ]
  },
  {
   "cell_type": "markdown",
   "metadata": {},
   "source": [
    "I have included the visualizations and analysis below, but I have also uploaded a separate PDF file containing the visualizations in case they do not display properly on another device."
   ]
  },
  {
   "cell_type": "markdown",
   "metadata": {},
   "source": [
    "**1. Popular Tracks by Film**"
   ]
  },
  {
   "cell_type": "markdown",
   "metadata": {},
   "source": [
    "This visualization takes a look at the number of songs represented from each movie in Spotify's featured Disney playlist. This does not represent every Disney song on Spotify, only the 75 most popular ones."
   ]
  },
  {
   "cell_type": "markdown",
   "metadata": {},
   "source": [
    "![Tracks By Film](V1TracksByFilm.png)"
   ]
  },
  {
   "cell_type": "markdown",
   "metadata": {},
   "source": [
    "We can see that The Lion King has the most songs featured on this playlist with 10. Aladdin and Mulan each have 8. These three movies have one thing in common: they have had a recent re-release. Since the songs have different sets of artists, they are considered as separate entities in our dataset. That means that there are some songs that may be represented twice."
   ]
  },
  {
   "cell_type": "markdown",
   "metadata": {},
   "source": [
    "**2. Box Office Profit By Year**"
   ]
  },
  {
   "cell_type": "markdown",
   "metadata": {},
   "source": [
    "Our second visualization looks at the amount of box office profit was made each calendar year. This takes the sum of profits from each movie release in a given year and compares the total against that of other years."
   ]
  },
  {
   "cell_type": "markdown",
   "metadata": {},
   "source": [
    "![Box Office Profit By Year](V2BoxOfficeByYear.png)"
   ]
  },
  {
   "cell_type": "markdown",
   "metadata": {},
   "source": [
    "We can see that 2019 was the most profitable year for The Walt Disney Company in terms of Box Office Revenue. This was the year that the live action versions of both Aladdin and the Lion King were released. Years in which no films were released are not included in this data."
   ]
  },
  {
   "cell_type": "markdown",
   "metadata": {},
   "source": [
    "**3. Average Popularity of Songs By Film**"
   ]
  },
  {
   "cell_type": "markdown",
   "metadata": {},
   "source": [
    "This third visualization takes a look at the average popularity of the songs from each film. \n",
    "This computes the average scaled popularity of every song from a film and measures it against other films. This data is specifically looking at the songs on Spotify’s Disney Hits playlist and therefore does not include less popular songs or scores."
   ]
  },
  {
   "cell_type": "markdown",
   "metadata": {},
   "source": [
    "![Average Popularity of Songs By Film](V3AvgPopByFilm.png)"
   ]
  },
  {
   "cell_type": "markdown",
   "metadata": {},
   "source": [
    "We can see that the songs from Moana have the highest average popularity on Spotify. This is followed closely by Toy Story and Zootopia. The songs from Snow White and the Seven Dwarfs have the lowest average scaled popularity."
   ]
  },
  {
   "cell_type": "markdown",
   "metadata": {},
   "source": [
    "**4. Film's Critic Rating Vs. Song Popularity**"
   ]
  },
  {
   "cell_type": "markdown",
   "metadata": {},
   "source": [
    "Our next visualization looks at critic ratings from a few different sources: Rotten Tomatoes, Metascore and IMDB. These scores are cross-referenced with the popularity of the songs from the films."
   ]
  },
  {
   "cell_type": "markdown",
   "metadata": {},
   "source": [
    "![Song Popularity Vs. Film's Rating](V4PopByRating.png)"
   ]
  },
  {
   "cell_type": "markdown",
   "metadata": {},
   "source": [
    "We can see that the ratings from Rotten Tomatoes are the most highly correlated (p=0.01) with the film's songs' popularity on Spotify. The ratings from IMDB (p=0.13) and Metascore (p=0.4) show a slight positive trend but are not statistically significant."
   ]
  },
  {
   "cell_type": "markdown",
   "metadata": {},
   "source": [
    "**5. Song Popularity Vs. Box Office Rating**"
   ]
  },
  {
   "cell_type": "markdown",
   "metadata": {},
   "source": [
    "Our last visualization takes a look at the correlation between a song's popularity on Spotify and its film's box office success in theaters."
   ]
  },
  {
   "cell_type": "markdown",
   "metadata": {},
   "source": [
    "![Song Popularity Vs. Box Office Rating](V5PopByBoxOffice.png)"
   ]
  },
  {
   "cell_type": "markdown",
   "metadata": {},
   "source": [
    "There is a statistically significant positive correlation (p=0.03) between song popularity and box office success. This is intuitive, as patrons who are seeing movies in theaters are also likely to stream their music. The correlation could possibly go both ways, as consumers who hear songs they enjoy might also be more likely to see the movie it is from. Proving causation in either direction would require additional research into the subject matter."
   ]
  },
  {
   "cell_type": "markdown",
   "metadata": {},
   "source": [
    "### Project Summary"
   ]
  },
  {
   "cell_type": "markdown",
   "metadata": {},
   "source": [
    "For this project, I collected data from three different sources in order to research popularity and profit of various Walt Disney films. I collected a CSV file, an HTML table, and an API source. I used the tools available to me, including BeautifulSoup and Spotipy, in order to parse this data and turn it into a functional dataset.\n",
    "\n",
    "Throughout this course I have learned how to interact with data from novel sources. Using different packages in Python, we are able to collect data from sources that are not nicely formatted CSV files. I learned how to connect to an API and collect necessary information, and I also learned how to visually inspect HTML to find the pieces that I need.\n",
    "\n",
    "Once the data was cleaned, it was uploaded into a database using SQL. Each dataset was uploaded individually and then merged into one final dataset to use to perform analysis and create visualizations.\n",
    "\n",
    "The main question I was investigating was whether song popularity and film success were correlated with each other. There is a statistically significant positive trend in the data, and we also found correlations between song popularity and film critic scores. I was able to create visualizations to support these claims, as well as some additional visualizations that graphically presented information regarding the individual films and box office profit by year.\n",
    "\n",
    "The datasets regarding film information are public and there are no ethical implications that would necessarily arise. The third dataset I acquired using the Spotify API does present the possibility of running into complications of that nature. The Spotify API allows us to access a user's profile, liked songs, and much more. For the purposes of this project, no user data was collected, however in a project that did focus on individual users, steps would have to be taken to protect their privacy and ensure that all data was collected consensually."
   ]
  }
 ],
 "metadata": {
  "kernelspec": {
   "display_name": "Python 3",
   "language": "python",
   "name": "python3"
  },
  "language_info": {
   "codemirror_mode": {
    "name": "ipython",
    "version": 3
   },
   "file_extension": ".py",
   "mimetype": "text/x-python",
   "name": "python",
   "nbconvert_exporter": "python",
   "pygments_lexer": "ipython3",
   "version": "3.8.3"
  }
 },
 "nbformat": 4,
 "nbformat_minor": 4
}
