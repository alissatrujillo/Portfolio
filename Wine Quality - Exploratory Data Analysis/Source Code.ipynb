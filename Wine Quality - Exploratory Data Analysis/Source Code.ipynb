{
 "cells": [
  {
   "cell_type": "markdown",
   "metadata": {},
   "source": [
    "# What Makes a Good Wine? An Exploratory Data Analysis\n",
    "\n",
    "by: Alissa Trujillo<br>"
   ]
  },
  {
   "cell_type": "code",
   "execution_count": 48,
   "metadata": {},
   "outputs": [],
   "source": [
    "import pandas as pd\n",
    "import numpy as np\n",
    "import matplotlib\n",
    "import thinkstats2\n",
    "import thinkplot"
   ]
  },
  {
   "cell_type": "markdown",
   "metadata": {},
   "source": [
    "I will be using this Wine Quality data set, pictured below, from Kaggle to investigate which factors lead to higher quality and higher rated wines."
   ]
  },
  {
   "cell_type": "code",
   "execution_count": 134,
   "metadata": {},
   "outputs": [
    {
     "data": {
      "text/html": [
       "<div>\n",
       "<style scoped>\n",
       "    .dataframe tbody tr th:only-of-type {\n",
       "        vertical-align: middle;\n",
       "    }\n",
       "\n",
       "    .dataframe tbody tr th {\n",
       "        vertical-align: top;\n",
       "    }\n",
       "\n",
       "    .dataframe thead th {\n",
       "        text-align: right;\n",
       "    }\n",
       "</style>\n",
       "<table border=\"1\" class=\"dataframe\">\n",
       "  <thead>\n",
       "    <tr style=\"text-align: right;\">\n",
       "      <th></th>\n",
       "      <th>fixed_acidity</th>\n",
       "      <th>volatile_acidity</th>\n",
       "      <th>citric_acid</th>\n",
       "      <th>residual_sugar</th>\n",
       "      <th>chlorides</th>\n",
       "      <th>free_sulfur_dioxide</th>\n",
       "      <th>total_sulfur_dioxide</th>\n",
       "      <th>density</th>\n",
       "      <th>pH</th>\n",
       "      <th>sulphates</th>\n",
       "      <th>alcohol</th>\n",
       "      <th>quality</th>\n",
       "    </tr>\n",
       "  </thead>\n",
       "  <tbody>\n",
       "    <tr>\n",
       "      <th>0</th>\n",
       "      <td>7.4</td>\n",
       "      <td>0.70</td>\n",
       "      <td>0.00</td>\n",
       "      <td>1.9</td>\n",
       "      <td>0.076</td>\n",
       "      <td>11.0</td>\n",
       "      <td>34.0</td>\n",
       "      <td>0.9978</td>\n",
       "      <td>3.51</td>\n",
       "      <td>0.56</td>\n",
       "      <td>9.4</td>\n",
       "      <td>5</td>\n",
       "    </tr>\n",
       "    <tr>\n",
       "      <th>1</th>\n",
       "      <td>7.8</td>\n",
       "      <td>0.88</td>\n",
       "      <td>0.00</td>\n",
       "      <td>2.6</td>\n",
       "      <td>0.098</td>\n",
       "      <td>25.0</td>\n",
       "      <td>67.0</td>\n",
       "      <td>0.9968</td>\n",
       "      <td>3.20</td>\n",
       "      <td>0.68</td>\n",
       "      <td>9.8</td>\n",
       "      <td>5</td>\n",
       "    </tr>\n",
       "    <tr>\n",
       "      <th>2</th>\n",
       "      <td>7.8</td>\n",
       "      <td>0.76</td>\n",
       "      <td>0.04</td>\n",
       "      <td>2.3</td>\n",
       "      <td>0.092</td>\n",
       "      <td>15.0</td>\n",
       "      <td>54.0</td>\n",
       "      <td>0.9970</td>\n",
       "      <td>3.26</td>\n",
       "      <td>0.65</td>\n",
       "      <td>9.8</td>\n",
       "      <td>5</td>\n",
       "    </tr>\n",
       "    <tr>\n",
       "      <th>3</th>\n",
       "      <td>11.2</td>\n",
       "      <td>0.28</td>\n",
       "      <td>0.56</td>\n",
       "      <td>1.9</td>\n",
       "      <td>0.075</td>\n",
       "      <td>17.0</td>\n",
       "      <td>60.0</td>\n",
       "      <td>0.9980</td>\n",
       "      <td>3.16</td>\n",
       "      <td>0.58</td>\n",
       "      <td>9.8</td>\n",
       "      <td>6</td>\n",
       "    </tr>\n",
       "    <tr>\n",
       "      <th>4</th>\n",
       "      <td>7.4</td>\n",
       "      <td>0.70</td>\n",
       "      <td>0.00</td>\n",
       "      <td>1.9</td>\n",
       "      <td>0.076</td>\n",
       "      <td>11.0</td>\n",
       "      <td>34.0</td>\n",
       "      <td>0.9978</td>\n",
       "      <td>3.51</td>\n",
       "      <td>0.56</td>\n",
       "      <td>9.4</td>\n",
       "      <td>5</td>\n",
       "    </tr>\n",
       "  </tbody>\n",
       "</table>\n",
       "</div>"
      ],
      "text/plain": [
       "   fixed_acidity  volatile_acidity  citric_acid  residual_sugar  chlorides  \\\n",
       "0            7.4              0.70         0.00             1.9      0.076   \n",
       "1            7.8              0.88         0.00             2.6      0.098   \n",
       "2            7.8              0.76         0.04             2.3      0.092   \n",
       "3           11.2              0.28         0.56             1.9      0.075   \n",
       "4            7.4              0.70         0.00             1.9      0.076   \n",
       "\n",
       "   free_sulfur_dioxide  total_sulfur_dioxide  density    pH  sulphates  \\\n",
       "0                 11.0                  34.0   0.9978  3.51       0.56   \n",
       "1                 25.0                  67.0   0.9968  3.20       0.68   \n",
       "2                 15.0                  54.0   0.9970  3.26       0.65   \n",
       "3                 17.0                  60.0   0.9980  3.16       0.58   \n",
       "4                 11.0                  34.0   0.9978  3.51       0.56   \n",
       "\n",
       "   alcohol  quality  \n",
       "0      9.4        5  \n",
       "1      9.8        5  \n",
       "2      9.8        5  \n",
       "3      9.8        6  \n",
       "4      9.4        5  "
      ]
     },
     "execution_count": 134,
     "metadata": {},
     "output_type": "execute_result"
    }
   ],
   "source": [
    "wineQualityDf = pd.read_csv(\"winequality-red.csv\")\n",
    "wineQualityDf.columns = [c.replace(' ', '_') for c in wineQualityDf.columns]\n",
    "\n",
    "wineQualityDf.head()"
   ]
  },
  {
   "cell_type": "markdown",
   "metadata": {},
   "source": [
    "**Variables**\n",
    "\n",
    "1. **Volatile Acidity**: The amount of acetic acid in the wine. This can lead to a vinegar-like taste when levels are too high.\n",
    "2. **Citric Acid**: Can add freshness to the wine, when added in limited quantities.\n",
    "3. **Residual Sugar**: The amount of sugar that remains after fermentation stops.\n",
    "4. **Density**: Density compared to water. This is determined by alcohol and sugar content.\n",
    "5. **PH**: Denotes how acidic or basic a wine is. Most wines are on the acidic side, roughly around 3-4.\n",
    "6. **Alcohol**: The alcohol content of the wine.\n",
    "\n",
    "**Dependent Variable**\n",
    "1. **Quality**: The quality of the wine. This is the variable we aim to measure."
   ]
  },
  {
   "cell_type": "markdown",
   "metadata": {},
   "source": [
    "### Variables"
   ]
  },
  {
   "cell_type": "markdown",
   "metadata": {},
   "source": [
    "**Volatile Acidity**: The amount of acetic acid in the wine. This can lead to a vinegar-like taste when levels are too high."
   ]
  },
  {
   "cell_type": "code",
   "execution_count": 135,
   "metadata": {},
   "outputs": [
    {
     "data": {
      "text/plain": [
       "array([[<matplotlib.axes._subplots.AxesSubplot object at 0x7ff40b36bb20>]],\n",
       "      dtype=object)"
      ]
     },
     "execution_count": 135,
     "metadata": {},
     "output_type": "execute_result"
    },
    {
     "data": {
      "image/png": "[encoded data removed]",
      "text/plain": [
       "<Figure size 432x288 with 1 Axes>"
      ]
     },
     "metadata": {},
     "output_type": "display_data"
    }
   ],
   "source": [
    "wineQualityDf.hist(column = \"volatile_acidity\", grid = False)"
   ]
  },
  {
   "cell_type": "code",
   "execution_count": 137,
   "metadata": {},
   "outputs": [
    {
     "name": "stdout",
     "output_type": "stream",
     "text": [
      "Mean: 0.5278205128205131\n",
      "Mode: 0.6\n",
      "Range: 1.46\n",
      "Q1: 0.39\n",
      "Median: 0.52\n",
      "Q3: 0.64\n",
      "Kurtosis: 1.2255422501791422\n"
     ]
    }
   ],
   "source": [
    "va_m = wineQualityDf['volatile_acidity'].mean()\n",
    "va_med = wineQualityDf['volatile_acidity'].median()\n",
    "va_mode = wineQualityDf['volatile_acidity'].mode()\n",
    "va_range = max(wineQualityDf['volatile_acidity']) - min(wineQualityDf['volatile_acidity'])\n",
    "va_q1 = wineQualityDf['volatile_acidity'].quantile(.25)\n",
    "va_q3 = wineQualityDf['volatile_acidity'].quantile(.75)\n",
    "va_k = wineQualityDf['volatile_acidity'].kurtosis()\n",
    "\n",
    "print(\"Mean: \" + str(va_m) + \"\\n\"\n",
    "     + \"Mode: \" + str(va_mode[0]) + \"\\n\"\n",
    "     + \"Range: \" + str(va_range) + \"\\n\"\n",
    "     + \"Q1: \" + str(va_q1) + \"\\n\"\n",
    "     + \"Median: \" + str(va_med) + \"\\n\"\n",
    "     + \"Q3: \" + str(va_q3) + \"\\n\"\n",
    "     + \"Kurtosis: \" + str(va_k))"
   ]
  },
  {
   "cell_type": "markdown",
   "metadata": {},
   "source": [
    "**Citric Acid**: Can add freshness to the wine, when added in limited quantities."
   ]
  },
  {
   "cell_type": "code",
   "execution_count": 12,
   "metadata": {},
   "outputs": [
    {
     "data": {
      "text/plain": [
       "array([[<matplotlib.axes._subplots.AxesSubplot object at 0x7ff409ae7cd0>]],\n",
       "      dtype=object)"
      ]
     },
     "execution_count": 12,
     "metadata": {},
     "output_type": "execute_result"
    },
    {
     "data": {
      "image/png": "[encoded data removed]",
      "text/plain": [
       "<Figure size 432x288 with 1 Axes>"
      ]
     },
     "metadata": {
      "needs_background": "light"
     },
     "output_type": "display_data"
    }
   ],
   "source": [
    "wineQualityDf.hist(column = \"citric_acid\", grid = False)"
   ]
  },
  {
   "cell_type": "code",
   "execution_count": 138,
   "metadata": {},
   "outputs": [
    {
     "name": "stdout",
     "output_type": "stream",
     "text": [
      "Mean: 0.2709756097560964\n",
      "Mode: 0.0\n",
      "Range: 1.0\n",
      "Q1: 0.09\n",
      "Median: 0.26\n",
      "Q3: 0.42\n",
      "Kurtosis: -0.7889975153633966\n"
     ]
    }
   ],
   "source": [
    "ca_m = wineQualityDf['citric_acid'].mean()\n",
    "ca_med = wineQualityDf['citric_acid'].median()\n",
    "ca_mode = wineQualityDf['citric_acid'].mode()\n",
    "ca_range = max(wineQualityDf['citric_acid']) - min(wineQualityDf['citric_acid'])\n",
    "ca_q1 = wineQualityDf['citric_acid'].quantile(.25)\n",
    "ca_q3 = wineQualityDf['citric_acid'].quantile(.75)\n",
    "ca_k = wineQualityDf['citric_acid'].kurtosis()\n",
    "\n",
    "print(\"Mean: \" + str(ca_m) + \"\\n\"\n",
    "     + \"Mode: \" + str(ca_mode[0]) + \"\\n\"\n",
    "     + \"Range: \" + str(ca_range) + \"\\n\"\n",
    "     + \"Q1: \" + str(ca_q1) + \"\\n\"\n",
    "     + \"Median: \" + str(ca_med) + \"\\n\"\n",
    "     + \"Q3: \" + str(ca_q3) + \"\\n\"\n",
    "     + \"Kurtosis: \" + str(ca_k))"
   ]
  },
  {
   "cell_type": "markdown",
   "metadata": {},
   "source": [
    "**Residual Sugar**: The amount of sugar that remains after fermentation stops."
   ]
  },
  {
   "cell_type": "code",
   "execution_count": 13,
   "metadata": {},
   "outputs": [
    {
     "data": {
      "text/plain": [
       "array([[<matplotlib.axes._subplots.AxesSubplot object at 0x7ff409c83f10>]],\n",
       "      dtype=object)"
      ]
     },
     "execution_count": 13,
     "metadata": {},
     "output_type": "execute_result"
    },
    {
     "data": {
      "image/png": "[encoded data removed]",
      "text/plain": [
       "<Figure size 432x288 with 1 Axes>"
      ]
     },
     "metadata": {
      "needs_background": "light"
     },
     "output_type": "display_data"
    }
   ],
   "source": [
    "wineQualityDf.hist(column = \"residual_sugar\", grid = False)"
   ]
  },
  {
   "cell_type": "code",
   "execution_count": 139,
   "metadata": {},
   "outputs": [
    {
     "name": "stdout",
     "output_type": "stream",
     "text": [
      "Mean: 2.5388055034396517\n",
      "Mode: 2.0\n",
      "Range: 14.6\n",
      "Q1: 1.9\n",
      "Median: 2.2\n",
      "Q3: 2.6\n",
      "Kurtosis: 28.617595424475443\n"
     ]
    }
   ],
   "source": [
    "rs_m = wineQualityDf['residual_sugar'].mean()\n",
    "rs_med = wineQualityDf['residual_sugar'].median()\n",
    "rs_mode = wineQualityDf['residual_sugar'].mode()\n",
    "rs_range = max(wineQualityDf['residual_sugar']) - min(wineQualityDf['residual_sugar'])\n",
    "rs_q1 = wineQualityDf['residual_sugar'].quantile(.25)\n",
    "rs_q3 = wineQualityDf['residual_sugar'].quantile(.75)\n",
    "rs_k = wineQualityDf['residual_sugar'].kurtosis()\n",
    "\n",
    "print(\"Mean: \" + str(rs_m) + \"\\n\"\n",
    "     + \"Mode: \" + str(rs_mode[0]) + \"\\n\"\n",
    "     + \"Range: \" + str(rs_range) + \"\\n\"\n",
    "     + \"Q1: \" + str(rs_q1) + \"\\n\"\n",
    "     + \"Median: \" + str(rs_med) + \"\\n\"\n",
    "     + \"Q3: \" + str(rs_q3) + \"\\n\"\n",
    "     + \"Kurtosis: \" + str(rs_k))"
   ]
  },
  {
   "cell_type": "markdown",
   "metadata": {},
   "source": [
    "**Density**: Density compared to water. This is determined by alcohol and sugar content."
   ]
  },
  {
   "cell_type": "code",
   "execution_count": 15,
   "metadata": {},
   "outputs": [
    {
     "data": {
      "text/plain": [
       "array([[<matplotlib.axes._subplots.AxesSubplot object at 0x7ff409f2d550>]],\n",
       "      dtype=object)"
      ]
     },
     "execution_count": 15,
     "metadata": {},
     "output_type": "execute_result"
    },
    {
     "data": {
      "image/png": "[encoded data removed]",
      "text/plain": [
       "<Figure size 432x288 with 1 Axes>"
      ]
     },
     "metadata": {
      "needs_background": "light"
     },
     "output_type": "display_data"
    }
   ],
   "source": [
    "wineQualityDf.hist(column = \"density\", grid = False)"
   ]
  },
  {
   "cell_type": "code",
   "execution_count": 37,
   "metadata": {},
   "outputs": [
    {
     "name": "stdout",
     "output_type": "stream",
     "text": [
      "Mean: 0.9967466791744831\n",
      "Mode: 0.9972\n",
      "Range: 0.013619999999999965\n",
      "Q1: 0.9956\n",
      "Median: 0.99675\n",
      "Q3: 0.997835\n",
      "Kurtosis: 0.9340790654648123\n"
     ]
    }
   ],
   "source": [
    "d_m = wineQualityDf['density'].mean()\n",
    "d_med = wineQualityDf['density'].median()\n",
    "d_mode = wineQualityDf['density'].mode()\n",
    "d_range = max(wineQualityDf['density']) - min(wineQualityDf['density'])\n",
    "d_q1 = wineQualityDf['density'].quantile(.25)\n",
    "d_q3 = wineQualityDf['density'].quantile(.75)\n",
    "d_k = wineQualityDf['density'].kurtosis()\n",
    "\n",
    "print(\"Mean: \" + str(d_m) + \"\\n\"\n",
    "     + \"Mode: \" + str(d_mode[0]) + \"\\n\"\n",
    "     + \"Range: \" + str(d_range) + \"\\n\"\n",
    "     + \"Q1: \" + str(d_q1) + \"\\n\"\n",
    "     + \"Median: \" + str(d_med) + \"\\n\"\n",
    "     + \"Q3: \" + str(d_q3) + \"\\n\"\n",
    "     + \"Kurtosis: \" + str(d_k))"
   ]
  },
  {
   "cell_type": "markdown",
   "metadata": {},
   "source": [
    "**PH**: Denotes how acidic or basic a wine is. Most wines are on the acidic side, roughly around 3-4."
   ]
  },
  {
   "cell_type": "code",
   "execution_count": 17,
   "metadata": {},
   "outputs": [
    {
     "data": {
      "text/plain": [
       "array([[<matplotlib.axes._subplots.AxesSubplot object at 0x7ff40a00c3d0>]],\n",
       "      dtype=object)"
      ]
     },
     "execution_count": 17,
     "metadata": {},
     "output_type": "execute_result"
    },
    {
     "data": {
      "image/png": "[encoded data removed]",
      "text/plain": [
       "<Figure size 432x288 with 1 Axes>"
      ]
     },
     "metadata": {
      "needs_background": "light"
     },
     "output_type": "display_data"
    }
   ],
   "source": [
    "wineQualityDf.hist(column = \"pH\", grid = False)"
   ]
  },
  {
   "cell_type": "code",
   "execution_count": 41,
   "metadata": {},
   "outputs": [
    {
     "name": "stdout",
     "output_type": "stream",
     "text": [
      "Mean: 3.311113195747343\n",
      "Mode: 3.3\n",
      "Range: 1.2699999999999996\n",
      "Q1: 3.21\n",
      "Median: 3.31\n",
      "Q3: 3.4\n",
      "Kurtosis: 0.806942508246574\n"
     ]
    }
   ],
   "source": [
    "ph_m = wineQualityDf['pH'].mean()\n",
    "ph_med = wineQualityDf['pH'].median()\n",
    "ph_mode = wineQualityDf['pH'].mode()\n",
    "ph_range = max(wineQualityDf['pH']) - min(wineQualityDf['pH'])\n",
    "ph_q1 = wineQualityDf['pH'].quantile(.25)\n",
    "ph_q3 = wineQualityDf['pH'].quantile(.75)\n",
    "ph_k = wineQualityDf['pH'].kurtosis()\n",
    "\n",
    "print(\"Mean: \" + str(ph_m) + \"\\n\"\n",
    "     + \"Mode: \" + str(ph_mode[0]) + \"\\n\"\n",
    "     + \"Range: \" + str(ph_range) + \"\\n\"\n",
    "     + \"Q1: \" + str(ph_q1) + \"\\n\"\n",
    "     + \"Median: \" + str(ph_med) + \"\\n\"\n",
    "     + \"Q3: \" + str(ph_q3) + \"\\n\"\n",
    "     + \"Kurtosis: \" + str(ph_k))"
   ]
  },
  {
   "cell_type": "markdown",
   "metadata": {},
   "source": [
    "**Alcohol**: The alcohol content of the wine."
   ]
  },
  {
   "cell_type": "code",
   "execution_count": 44,
   "metadata": {},
   "outputs": [
    {
     "data": {
      "text/plain": [
       "array([[<matplotlib.axes._subplots.AxesSubplot object at 0x7ff40a3f5580>]],\n",
       "      dtype=object)"
      ]
     },
     "execution_count": 44,
     "metadata": {},
     "output_type": "execute_result"
    },
    {
     "data": {
      "image/png": "[encoded data removed]",
      "text/plain": [
       "<Figure size 432x288 with 1 Axes>"
      ]
     },
     "metadata": {
      "needs_background": "light"
     },
     "output_type": "display_data"
    }
   ],
   "source": [
    "wineQualityDf.hist(column = \"alcohol\", grid = False)"
   ]
  },
  {
   "cell_type": "code",
   "execution_count": 46,
   "metadata": {},
   "outputs": [
    {
     "name": "stdout",
     "output_type": "stream",
     "text": [
      "Mean: 10.422983114446502\n",
      "Mode: 9.5\n",
      "Range: 6.5\n",
      "Q1: 9.5\n",
      "Median: 10.2\n",
      "Q3: 11.1\n",
      "Kurtosis: 0.2000293113417695\n"
     ]
    }
   ],
   "source": [
    "al_m = wineQualityDf['alcohol'].mean()\n",
    "al_med = wineQualityDf['alcohol'].median()\n",
    "al_mode = wineQualityDf['alcohol'].mode()\n",
    "al_range = max(wineQualityDf['alcohol']) - min(wineQualityDf['alcohol'])\n",
    "al_q1 = wineQualityDf['alcohol'].quantile(.25)\n",
    "al_q3 = wineQualityDf['alcohol'].quantile(.75)\n",
    "al_k = wineQualityDf['alcohol'].kurtosis()\n",
    "\n",
    "print(\"Mean: \" + str(al_m) + \"\\n\"\n",
    "     + \"Mode: \" + str(al_mode[0]) + \"\\n\"\n",
    "     + \"Range: \" + str(al_range) + \"\\n\"\n",
    "     + \"Q1: \" + str(al_q1) + \"\\n\"\n",
    "     + \"Median: \" + str(al_med) + \"\\n\"\n",
    "     + \"Q3: \" + str(al_q3) + \"\\n\"\n",
    "     + \"Kurtosis: \" + str(al_k))"
   ]
  },
  {
   "cell_type": "markdown",
   "metadata": {},
   "source": [
    "### Comparing Scenarios: Low Alcohol Content vs. High Alcohol Content"
   ]
  },
  {
   "cell_type": "markdown",
   "metadata": {},
   "source": [
    "For comaparison, we will split our data between wines with high alcohol content (11% or above) and wines with lower alcohol content. We will first split the data into separate data frames and then will compute the pmf's for each selection."
   ]
  },
  {
   "cell_type": "code",
   "execution_count": 59,
   "metadata": {},
   "outputs": [],
   "source": [
    "high_alc_df = wineQualityDf.loc[wineQualityDf['alcohol'] >= 11]\n",
    "low_alc_df = wineQualityDf.loc[wineQualityDf['alcohol'] < 11]"
   ]
  },
  {
   "cell_type": "code",
   "execution_count": 68,
   "metadata": {},
   "outputs": [],
   "source": [
    "high_alc_pmf = thinkstats2.Pmf(high_alc_df['quality'], label = \"high alcohol content\")\n",
    "low_alc_pmf = thinkstats2.Pmf(low_alc_df['quality'], label = \"low alcohol content\")"
   ]
  },
  {
   "cell_type": "code",
   "execution_count": 69,
   "metadata": {},
   "outputs": [
    {
     "data": {
      "image/png": "[encoded data removed]",
      "text/plain": [
       "<Figure size 864x432 with 2 Axes>"
      ]
     },
     "metadata": {
      "needs_background": "light"
     },
     "output_type": "display_data"
    },
    {
     "data": {
      "text/plain": [
       "<Figure size 576x432 with 0 Axes>"
      ]
     },
     "metadata": {},
     "output_type": "display_data"
    }
   ],
   "source": [
    "width = 0.45\n",
    "axis = [0, 10, 0, 0.6]\n",
    "\n",
    "thinkplot.PrePlot(2, cols=2)\n",
    "thinkplot.Hist(high_alc_pmf, align='right', width=width)\n",
    "thinkplot.Hist(low_alc_pmf, align='left', width=width)\n",
    "thinkplot.Config(xlabel='quality',\n",
    "                 ylabel='probability',\n",
    "                 axis=axis)\n",
    "thinkplot.PrePlot(2)\n",
    "thinkplot.SubPlot(2)\n",
    "thinkplot.Pmfs([high_alc_pmf, low_alc_pmf])\n",
    "thinkplot.Show(xlabel='quality',\n",
    "               axis=axis)"
   ]
  },
  {
   "cell_type": "markdown",
   "metadata": {},
   "source": [
    "We can see, looking at our pmf's, that wine with a lower alcohol content has a median quality of 5. Wines with an alcohol content above 11% have a median quality of 6. The average quality of wine with a high alcohol content looks to be higher than lower alcohol content wines. We will conduct addition tests below to see if this effect is statistically significant."
   ]
  },
  {
   "cell_type": "markdown",
   "metadata": {},
   "source": [
    "### Computing A CDF"
   ]
  },
  {
   "cell_type": "markdown",
   "metadata": {},
   "source": [
    "We will compute a CDF for wine quality in order to see how often each ranking is used."
   ]
  },
  {
   "cell_type": "code",
   "execution_count": 71,
   "metadata": {},
   "outputs": [],
   "source": [
    "wine_quality = wineQualityDf.quality\n",
    "quality_cdf = thinkstats2.Cdf(wine_quality, label = 'wine quality')"
   ]
  },
  {
   "cell_type": "code",
   "execution_count": 73,
   "metadata": {},
   "outputs": [
    {
     "data": {
      "image/png": "[encoded data removed]",
      "text/plain": [
       "<Figure size 432x288 with 1 Axes>"
      ]
     },
     "metadata": {
      "needs_background": "light"
     },
     "output_type": "display_data"
    },
    {
     "data": {
      "text/plain": [
       "<Figure size 576x432 with 0 Axes>"
      ]
     },
     "metadata": {},
     "output_type": "display_data"
    }
   ],
   "source": [
    "thinkplot.Cdf(quality_cdf)\n",
    "thinkplot.Show(xlabel = 'wine quality', ylabel = 'CDF')"
   ]
  },
  {
   "cell_type": "markdown",
   "metadata": {},
   "source": [
    "This figure shows us the cumulative probability for each quality rating for the selected wines. We can see that a rating of 4 or below is very rare, and the moderate values (5-6) have the highest incidence in the data. Ratings higher than 6 are quite rare as well. This tells us that a majority of wines receive a quality rating that is close to average, which is what we would expect to see in a fair rating system."
   ]
  },
  {
   "cell_type": "markdown",
   "metadata": {},
   "source": [
    "### Analytical Distributions"
   ]
  },
  {
   "cell_type": "markdown",
   "metadata": {},
   "source": [
    "Since the wines in our data are more likely to receive moderate ratings and less likely to receive extreme rankings (either good or bad) this data seems like a great fit for a normal model. To test whether the normal model is in fact a solid fit, we will plot it against our actual data points using the MakeNormalPlot function from the brfss."
   ]
  },
  {
   "cell_type": "code",
   "execution_count": 78,
   "metadata": {},
   "outputs": [
    {
     "data": {
      "image/png": "[encoded data removed]",
      "text/plain": [
       "<Figure size 432x288 with 1 Axes>"
      ]
     },
     "metadata": {
      "needs_background": "light"
     },
     "output_type": "display_data"
    }
   ],
   "source": [
    "from brfss import MakeNormalPlot\n",
    "\n",
    "MakeNormalPlot(wine_quality)"
   ]
  },
  {
   "cell_type": "markdown",
   "metadata": {},
   "source": [
    "Looking at our graph, the data follows the pattern of the normal distribution pretty well. The main issue we can see is the stair-like appearance of our data line due to the ratings being solely whole numbers, rather than fractions of numbers."
   ]
  },
  {
   "cell_type": "markdown",
   "metadata": {},
   "source": [
    "### Scatterplots"
   ]
  },
  {
   "cell_type": "markdown",
   "metadata": {},
   "source": [
    "**Plotting Alcohol Content vs. Wine Quality**"
   ]
  },
  {
   "cell_type": "code",
   "execution_count": 126,
   "metadata": {},
   "outputs": [],
   "source": [
    "import seaborn as sns\n",
    "from thinkstats2 import Cov\n",
    "from thinkstats2 import Corr"
   ]
  },
  {
   "cell_type": "code",
   "execution_count": 117,
   "metadata": {},
   "outputs": [
    {
     "data": {
      "text/plain": [
       "<matplotlib.axes._subplots.AxesSubplot at 0x7ff342f57ee0>"
      ]
     },
     "execution_count": 117,
     "metadata": {},
     "output_type": "execute_result"
    },
    {
     "data": {
      "image/png": "[encoded data removed]",
      "text/plain": [
       "<Figure size 432x288 with 1 Axes>"
      ]
     },
     "metadata": {},
     "output_type": "display_data"
    }
   ],
   "source": [
    "sns.regplot('quality',  'alcohol', data = wineQualityDf, \n",
    "            color = 'navy', x_jitter = .15, scatter_kws={'s':7})"
   ]
  },
  {
   "cell_type": "code",
   "execution_count": 129,
   "metadata": {},
   "outputs": [
    {
     "data": {
      "text/plain": [
       "0.4095327325044069"
      ]
     },
     "execution_count": 129,
     "metadata": {},
     "output_type": "execute_result"
    }
   ],
   "source": [
    "Cov(wineQualityDf.quality, wineQualityDf.alcohol)"
   ]
  },
  {
   "cell_type": "code",
   "execution_count": 128,
   "metadata": {},
   "outputs": [
    {
     "data": {
      "text/plain": [
       "0.4761663240011361"
      ]
     },
     "execution_count": 128,
     "metadata": {},
     "output_type": "execute_result"
    }
   ],
   "source": [
    "Corr(wineQualityDf.quality, wineQualityDf.alcohol)"
   ]
  },
  {
   "cell_type": "markdown",
   "metadata": {},
   "source": [
    "The Pearson's correlation for wine quality and alcohol is 0.476. This means that there is a positive correlation between the two variables. As alcohol content increases, wine quality also increases. The covariance between wine quality and alcohol content is 0.410, meaning that the variables tend to vary together. We can see an upwards trend in our scatterplot, evidenced by the regression line. This relationship is best described with a linear shape."
   ]
  },
  {
   "cell_type": "markdown",
   "metadata": {},
   "source": [
    "**Plotting Volatile Acidity vs. Wine Quality**"
   ]
  },
  {
   "cell_type": "code",
   "execution_count": 123,
   "metadata": {},
   "outputs": [
    {
     "data": {
      "text/plain": [
       "<matplotlib.axes._subplots.AxesSubplot at 0x7ff345146ac0>"
      ]
     },
     "execution_count": 123,
     "metadata": {},
     "output_type": "execute_result"
    },
    {
     "data": {
      "image/png": "[encoded data removed]",
      "text/plain": [
       "<Figure size 432x288 with 1 Axes>"
      ]
     },
     "metadata": {},
     "output_type": "display_data"
    }
   ],
   "source": [
    "sns.regplot('quality',  'volatile acidity', data = wineQualityDf, \n",
    "            color = 'navy', x_jitter = .15, scatter_kws={'s':7})"
   ]
  },
  {
   "cell_type": "code",
   "execution_count": 141,
   "metadata": {},
   "outputs": [
    {
     "data": {
      "text/plain": [
       "-0.056440563813922165"
      ]
     },
     "execution_count": 141,
     "metadata": {},
     "output_type": "execute_result"
    }
   ],
   "source": [
    "Cov(wineQualityDf.quality, wineQualityDf.volatile_acidity)"
   ]
  },
  {
   "cell_type": "code",
   "execution_count": 142,
   "metadata": {},
   "outputs": [
    {
     "data": {
      "text/plain": [
       "-0.3905577802640072"
      ]
     },
     "execution_count": 142,
     "metadata": {},
     "output_type": "execute_result"
    }
   ],
   "source": [
    "Corr(wineQualityDf.quality, wineQualityDf.volatile_acidity)"
   ]
  },
  {
   "cell_type": "markdown",
   "metadata": {},
   "source": [
    "The Pearson's correlation for wine quality and alcohol is -0.391. This means that there is a negative correlation between the two variables. As volatile acidity increases, wine quality decreases. The covariance between wine quality and alcohol content is -0.056, meaning that the variables have a very slight tendency to move in the opposite direction. We can see an downwards trend in our scatterplot, evidenced by the regression line. This relationship is best described with a linear shape."
   ]
  },
  {
   "cell_type": "markdown",
   "metadata": {},
   "source": [
    "### Hypothesis Testing"
   ]
  },
  {
   "cell_type": "markdown",
   "metadata": {},
   "source": [
    "The hypothesis I am aiming to test is whether there is a significant difference in quality depending on the alcohol content of the wine."
   ]
  },
  {
   "cell_type": "code",
   "execution_count": 151,
   "metadata": {},
   "outputs": [],
   "source": [
    "high_alc_q = high_alc_df.quality\n",
    "low_alc_q = low_alc_df.quality"
   ]
  },
  {
   "cell_type": "code",
   "execution_count": 168,
   "metadata": {},
   "outputs": [
    {
     "name": "stdout",
     "output_type": "stream",
     "text": [
      "stat=17.546, p=0.000\n"
     ]
    }
   ],
   "source": [
    "from scipy.stats import ttest_ind\n",
    "\n",
    "stat, p = ttest_ind(high_alc_q, low_alc_q)\n",
    "print('stat=%.3f, p=%.3f' % (stat, p))"
   ]
  },
  {
   "cell_type": "markdown",
   "metadata": {},
   "source": [
    "The p-value for our hypothesis test is very close to 0, meaning that the difference in quality between wines with low alcohol content and wines with high alcohol content is statistically significant."
   ]
  },
  {
   "cell_type": "markdown",
   "metadata": {},
   "source": [
    "### Fitting A Regression"
   ]
  },
  {
   "cell_type": "code",
   "execution_count": 166,
   "metadata": {},
   "outputs": [],
   "source": [
    "import statsmodels.formula.api as smf\n",
    "quality_reg = smf.ols('quality ~ volatile_acidity + citric_acid + residual_sugar + density + pH + alcohol', data=wineQualityDf).fit()"
   ]
  },
  {
   "cell_type": "code",
   "execution_count": 167,
   "metadata": {},
   "outputs": [
    {
     "name": "stdout",
     "output_type": "stream",
     "text": [
      "                            OLS Regression Results                            \n",
      "==============================================================================\n",
      "Dep. Variable:                quality   R-squared:                       0.326\n",
      "Model:                            OLS   Adj. R-squared:                  0.324\n",
      "Method:                 Least Squares   F-statistic:                     128.5\n",
      "Date:                Fri, 29 Jul 2022   Prob (F-statistic):          1.05e-132\n",
      "Time:                        19:44:54   Log-Likelihood:                -1610.9\n",
      "No. Observations:                1599   AIC:                             3236.\n",
      "Df Residuals:                    1592   BIC:                             3273.\n",
      "Df Model:                           6                                         \n",
      "Covariance Type:            nonrobust                                         \n",
      "====================================================================================\n",
      "                       coef    std err          t      P>|t|      [0.025      0.975]\n",
      "------------------------------------------------------------------------------------\n",
      "Intercept          -27.4334     13.143     -2.087      0.037     -53.213      -1.654\n",
      "volatile_acidity    -1.4174      0.116    -12.182      0.000      -1.646      -1.189\n",
      "citric_acid         -0.3256      0.136     -2.388      0.017      -0.593      -0.058\n",
      "residual_sugar      -0.0172      0.013     -1.306      0.192      -0.043       0.009\n",
      "density             32.0285     13.101      2.445      0.015       6.331      57.726\n",
      "pH                  -0.5350      0.135     -3.958      0.000      -0.800      -0.270\n",
      "alcohol              0.3642      0.021     17.538      0.000       0.324       0.405\n",
      "==============================================================================\n",
      "Omnibus:                       15.359   Durbin-Watson:                   1.744\n",
      "Prob(Omnibus):                  0.000   Jarque-Bera (JB):               22.658\n",
      "Skew:                          -0.065   Prob(JB):                     1.20e-05\n",
      "Kurtosis:                       3.568   Cond. No.                     1.27e+04\n",
      "==============================================================================\n",
      "\n",
      "Warnings:\n",
      "[1] Standard Errors assume that the covariance matrix of the errors is correctly specified.\n",
      "[2] The condition number is large, 1.27e+04. This might indicate that there are\n",
      "strong multicollinearity or other numerical problems.\n"
     ]
    }
   ],
   "source": [
    "print(quality_reg.summary())"
   ]
  },
  {
   "cell_type": "markdown",
   "metadata": {},
   "source": [
    "Looking at the results of our regression, we can see that there is a p-value under p=0.05 for each of the measured variables with the exception of residual sugar. This means that volatile acidity, citric acid, density, pH and alcohol content all have a significant effect on the quality of a wine. Since quality is measured after wine is brewed, when all of these factors are already measured, we can confidently say that there is a one-directional causal relationship."
   ]
  }
 ],
 "metadata": {
  "kernelspec": {
   "display_name": "Python 3 (ipykernel)",
   "language": "python",
   "name": "python3"
  },
  "language_info": {
   "codemirror_mode": {
    "name": "ipython",
    "version": 3
   },
   "file_extension": ".py",
   "mimetype": "text/x-python",
   "name": "python",
   "nbconvert_exporter": "python",
   "pygments_lexer": "ipython3",
   "version": "3.11.3"
  }
 },
 "nbformat": 4,
 "nbformat_minor": 4
}
