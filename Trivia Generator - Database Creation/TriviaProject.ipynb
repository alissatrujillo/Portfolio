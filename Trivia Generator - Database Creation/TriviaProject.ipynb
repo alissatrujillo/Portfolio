{
 "cells": [
  {
   "cell_type": "markdown",
   "id": "cf66a40e-3e2d-4cfc-bcf4-c8e31a11b526",
   "metadata": {},
   "source": [
    "### Creating the Question Database"
   ]
  },
  {
   "cell_type": "code",
   "execution_count": 337,
   "id": "0cd7c720-d8eb-4b35-a369-39d5e06e3b30",
   "metadata": {
    "tags": []
   },
   "outputs": [],
   "source": [
    "import pandas as pd\n",
    "\n",
    "from ast import literal_eval\n",
    "from fpdf import FPDF\n",
    "\n",
    "import warnings\n",
    "warnings.filterwarnings(\"ignore\", category=DeprecationWarning) "
   ]
  },
  {
   "cell_type": "markdown",
   "id": "33bc9f3f-aeb3-4461-98d8-9825ae2c93eb",
   "metadata": {},
   "source": [
    "**Defining the Functions**"
   ]
  },
  {
   "cell_type": "code",
   "execution_count": 260,
   "id": "52fe76e5-2de3-4e71-a7ca-59829947cd42",
   "metadata": {
    "tags": []
   },
   "outputs": [],
   "source": [
    "def add_question():\n",
    "    add = True\n",
    "    \n",
    "    q = pd.read_csv('questions.csv', converters={'Category': literal_eval})    \n",
    "    \n",
    "    while add == True:\n",
    "        \n",
    "        max_ID = q['ID'].max()\n",
    "        if pd.isna(max_ID):\n",
    "            ID = 1\n",
    "        else:\n",
    "            ID = max_ID + 1\n",
    "\n",
    "        cat = q['Category']\n",
    "            \n",
    "        cat = cat.explode().unique()\n",
    "        print('Existing Categories: ', cat)\n",
    "        \n",
    "        Category = input('Question Category?')\n",
    "        Category = Category.split('/')\n",
    "    \n",
    "        Topic = input('Specific Topic?')\n",
    "    \n",
    "        Difficulty = input('Difficulty? Easy, Medium or Hard')\n",
    "    \n",
    "        Question = input('Enter Trivia Question:')\n",
    "    \n",
    "        Correct = input('Correct Answer:')\n",
    "    \n",
    "        Choice1 = input('Incorrect Choice #1')\n",
    "    \n",
    "        Choice2 = input('Incorrect Choice #2')\n",
    "        \n",
    "        Choice3 = input('Incorrect Choice #3')\n",
    "        \n",
    "        Source = input('Input Source URL:')\n",
    "    \n",
    "        final_q = [ID, Category, Topic, Difficulty, Question, Correct, Choice1, Choice2, \n",
    "                   Choice3, Source]\n",
    "        print(final_q)\n",
    "    \n",
    "        confirm = input('Does this look correct?')\n",
    "    \n",
    "        if confirm.lower() == 'y':\n",
    "            q.loc[len(q)] = final_q\n",
    "        \n",
    "        another = input('Add another?')\n",
    "        \n",
    "        if another.lower() != 'y':\n",
    "            add = False\n",
    "    \n",
    "    return q"
   ]
  },
  {
   "cell_type": "code",
   "execution_count": 178,
   "id": "93f8d168-65da-4349-a19a-f86905c50781",
   "metadata": {
    "tags": []
   },
   "outputs": [],
   "source": [
    "def write_changes(q):\n",
    "    q.to_csv('questions.csv', index=False)"
   ]
  },
  {
   "cell_type": "markdown",
   "id": "97c579d8-3a12-4dd1-8da1-c80fc4b4dfe2",
   "metadata": {},
   "source": [
    "**Adding Questions to Database**"
   ]
  },
  {
   "cell_type": "code",
   "execution_count": 690,
   "id": "88ebcf5d-0dac-48c4-b1f7-c32feb44a968",
   "metadata": {
    "tags": []
   },
   "outputs": [
    {
     "name": "stdout",
     "output_type": "stream",
     "text": [
      "Existing Categories:  ['Halloween' 'Movies' 'DCOM' 'Disney' 'Marvel' 'Literature' 'Video Games'\n",
      " 'Television' 'Sitcoms' 'Music' 'Pop Culture' 'Theme Parks']\n"
     ]
    },
    {
     "name": "stdin",
     "output_type": "stream",
     "text": [
      "Question Category? Television\n",
      "Specific Topic? Star Trek\n",
      "Difficulty? Easy, Medium or Hard Easy\n",
      "Enter Trivia Question: What ship is famously captained by Captain James Kirk in the Star Trek series?\n",
      "Correct Answer: USS Enterprise\n",
      "Incorrect Choice #1 USS Truman\n",
      "Incorrect Choice #2 USS Kennedy\n",
      "Incorrect Choice #3 USS Marina\n",
      "Input Source URL: https://en.wikipedia.org/wiki/USS_Enterprise_(NCC-1701)\n"
     ]
    },
    {
     "name": "stdout",
     "output_type": "stream",
     "text": [
      "[88, ['Television'], 'Star Trek', 'Easy', 'What ship is famously captained by Captain James Kirk in the Star Trek series?', 'USS Enterprise', 'USS Truman', 'USS Kennedy', 'USS Marina', 'https://en.wikipedia.org/wiki/USS_Enterprise_(NCC-1701)']\n"
     ]
    },
    {
     "name": "stdin",
     "output_type": "stream",
     "text": [
      "Does this look correct? y\n",
      "Add another? n\n"
     ]
    }
   ],
   "source": [
    "q = add_question()"
   ]
  },
  {
   "cell_type": "code",
   "execution_count": 691,
   "id": "4ce11e55-b256-4acc-8fe2-3858c13f2551",
   "metadata": {
    "tags": []
   },
   "outputs": [],
   "source": [
    "write_changes(q)"
   ]
  },
  {
   "cell_type": "markdown",
   "id": "d7f68eb4-bab6-4681-a581-cd26503defc7",
   "metadata": {},
   "source": [
    "**Category Breakdowns**"
   ]
  },
  {
   "cell_type": "code",
   "execution_count": 694,
   "id": "e4755590-d400-449e-8030-3f6d084568a2",
   "metadata": {
    "tags": []
   },
   "outputs": [],
   "source": [
    "questions = pd.read_csv('questions.csv', converters={'Category': literal_eval})    "
   ]
  },
  {
   "cell_type": "code",
   "execution_count": 695,
   "id": "e7187e8f-a8f7-46cf-a3f1-2ab7f4b573a1",
   "metadata": {
    "tags": []
   },
   "outputs": [
    {
     "data": {
      "text/plain": [
       "Movies         37\n",
       "Television     25\n",
       "Disney         16\n",
       "Literature     13\n",
       "Music          13\n",
       "Video Games    12\n",
       "Sitcoms        12\n",
       "Pop Culture     9\n",
       "Halloween       6\n",
       "DCOM            3\n",
       "Marvel          3\n",
       "Theme Parks     1\n",
       "Name: Category, dtype: int64"
      ]
     },
     "execution_count": 695,
     "metadata": {},
     "output_type": "execute_result"
    }
   ],
   "source": [
    "questions['Category'].explode().value_counts()"
   ]
  },
  {
   "cell_type": "code",
   "execution_count": 700,
   "id": "196122f4-e917-4320-94e3-accc47db7ebf",
   "metadata": {
    "tags": []
   },
   "outputs": [],
   "source": [
    "categories_count = questions['Category'].explode().value_counts().rename_axis('unique_values').to_frame('counts')\n",
    "categories_count.to_csv('categories.csv', index=True)"
   ]
  },
  {
   "cell_type": "markdown",
   "id": "a5f2a746-c3f3-4334-8681-2ed11d46c3ad",
   "metadata": {},
   "source": [
    "**Generating Trivia**"
   ]
  },
  {
   "cell_type": "code",
   "execution_count": 495,
   "id": "313843cf-86e1-4ad4-8e1c-b0338801a142",
   "metadata": {
    "tags": []
   },
   "outputs": [],
   "source": [
    "category = 'General'\n",
    "diff = 'Any'\n",
    "q = 10"
   ]
  },
  {
   "cell_type": "code",
   "execution_count": 501,
   "id": "fbb3a776-dca1-4f06-a704-d1953f77f057",
   "metadata": {
    "tags": []
   },
   "outputs": [],
   "source": [
    "def generate(category, diff, q):\n",
    "    \n",
    "    trivia_db = pd.read_csv('questions.csv', converters={'Category': literal_eval})\n",
    "    trivia_db['Topical'] = False\n",
    "\n",
    "    if diff == 'Any':\n",
    "        diff = ['Easy', 'Medium', 'Hard']\n",
    "    \n",
    "    for i, question in trivia_db.iterrows():\n",
    "        if category == 'General':\n",
    "            trivia_db = trivia_db.assign(Topical=True)\n",
    "        elif (category in question['Category']) and (question['Difficulty'] in diff):\n",
    "            trivia_db.at[i, 'Topical'] = True\n",
    "            \n",
    "    valid_qs = trivia_db.loc[trivia_db['Topical'] == True]\n",
    "    \n",
    "    if valid_qs.shape[0] < q:\n",
    "        print('There are only', valid_qs.shape[0], 'questions that match your topic.', \n",
    "              valid_qs.shape[0], 'questions will be generated.')\n",
    "        \n",
    "    select = valid_qs.sample(n=q)\n",
    "    select = select.reset_index()\n",
    "    \n",
    "    topics = []\n",
    "    \n",
    "    for i, question in trivia_db.iterrows():\n",
    "        if question['Topic'] not in topics:\n",
    "            topics.append(question['Topic'])\n",
    "    \n",
    "    create_pdf(select, category, topics)"
   ]
  },
  {
   "cell_type": "code",
   "execution_count": 502,
   "id": "77fea220-e301-41e7-a12e-db8ad81fbf86",
   "metadata": {
    "tags": []
   },
   "outputs": [],
   "source": [
    "def create_pdf(select, category, topics):\n",
    "    pdf = FPDF()\n",
    "    pdf.add_page()\n",
    "    \n",
    "    pg_w = pdf.w - 2*pdf.l_margin\n",
    "    \n",
    "    title = category + ' Trivia Night - Host Sheet'\n",
    "    pdf.set_font('helvetica', 'B', size=20)\n",
    "    pdf.cell(200, 10, txt=title, ln=1, align='C')\n",
    "    \n",
    "    topics = ', '.join(topics)\n",
    "    tpc = 'Topics included: ' + topics\n",
    "    pdf.set_font('helvetica', size=10)\n",
    "    pdf.multi_cell(pg_w, 5, txt=tpc, ln=1, align='C')\n",
    "    pdf.ln(5)\n",
    "\n",
    "    for i, question in select.iterrows():\n",
    "        ques = 'Question #' + str(i+1) + ': ' + question['Question']\n",
    "        pdf.set_font('helvetica', 'B', size=14)\n",
    "        pdf.multi_cell(pg_w, 7.5, txt=ques, ln=1, align='C')\n",
    "        \n",
    "        top_dif = 'Topic: ' + question['Topic'] + ' // Difficulty: ' + question['Difficulty']\n",
    "        pdf.set_font('helvetica', size=10)\n",
    "        pdf.cell(200, 5, txt=top_dif, ln=1, align='C')\n",
    "        \n",
    "        ans = 'Correct Answer: ' + question['Correct Answer']\n",
    "        pdf.set_font('helvetica', 'B', size=12)\n",
    "        pdf.cell(200, 5, txt=ans, ln=1, align='C')\n",
    "        \n",
    "        src = 'Source: ' + str(question['Source'])\n",
    "        pdf.set_font('helvetica', size=10)\n",
    "        pdf.multi_cell(pg_w, 5, txt=src, ln=1, align='C')\n",
    "        pdf.ln(5)\n",
    "        \n",
    "    pdf.output('TriviaHostSheet.pdf')"
   ]
  },
  {
   "cell_type": "markdown",
   "id": "3b705ddd-716a-416b-9c3d-89d24acce8ad",
   "metadata": {},
   "source": [
    "**Defining User Selections**"
   ]
  },
  {
   "cell_type": "code",
   "execution_count": 503,
   "id": "089d289e-8826-438f-9345-c513c0b80780",
   "metadata": {
    "tags": []
   },
   "outputs": [],
   "source": [
    "trivia_db = pd.read_csv('questions.csv', converters={'Category': literal_eval})"
   ]
  },
  {
   "cell_type": "code",
   "execution_count": 504,
   "id": "f10ecb62-5e0b-4539-994d-2132caa29408",
   "metadata": {
    "tags": []
   },
   "outputs": [],
   "source": [
    "categories = trivia_db['Category'].value_counts()\n",
    "categories = categories[categories >= 10].index.tolist()\n",
    "categories = categories[0]\n",
    "\n",
    "topic_cat = trivia_db['Topic'].value_counts()\n",
    "topic_cat = topics[topics >= 10].index.tolist()\n",
    "\n",
    "try:\n",
    "    categories.append(topic_cat[0])\n",
    "except:\n",
    "    pass"
   ]
  },
  {
   "cell_type": "code",
   "execution_count": 505,
   "id": "950db43e-e902-4c7d-abb6-9966a5204cd2",
   "metadata": {
    "tags": []
   },
   "outputs": [],
   "source": [
    "pdf = generate(category, diff, q)"
   ]
  },
  {
   "cell_type": "markdown",
   "id": "913ff8f4-eafa-46ce-ac50-6efd1acd102c",
   "metadata": {},
   "source": [
    "**Difficulty**"
   ]
  },
  {
   "cell_type": "code",
   "execution_count": 512,
   "id": "ee93517b-e602-4961-aee2-35fe20315190",
   "metadata": {
    "tags": []
   },
   "outputs": [],
   "source": [
    "for i, question in trivia_db.iterrows():\n",
    "    if category == 'General':\n",
    "        trivia_db = trivia_db.assign(Topical=True)\n",
    "    elif (category in question['Category']) and (question['Difficulty'] in diff):\n",
    "        trivia_db.at[i, 'Topical'] = True"
   ]
  },
  {
   "cell_type": "code",
   "execution_count": 513,
   "id": "4c3e774e-4c26-49aa-b5eb-05ce30aae683",
   "metadata": {
    "tags": []
   },
   "outputs": [
    {
     "data": {
      "text/plain": [
       "Medium    10\n",
       "Easy       9\n",
       "Hard       4\n",
       "Name: Difficulty, dtype: int64"
      ]
     },
     "execution_count": 513,
     "metadata": {},
     "output_type": "execute_result"
    }
   ],
   "source": [
    "valid_qs = trivia_db.loc[trivia_db['Topical'] == True]\n",
    "valid_qs['Difficulty'].value_counts()"
   ]
  },
  {
   "cell_type": "code",
   "execution_count": 519,
   "id": "5941b601-0b9d-4a47-a79e-2e84fab65602",
   "metadata": {
    "tags": []
   },
   "outputs": [
    {
     "data": {
      "text/plain": [
       "['Any', 'Medium']"
      ]
     },
     "execution_count": 519,
     "metadata": {},
     "output_type": "execute_result"
    }
   ],
   "source": [
    "diff_opts = valid_qs['Difficulty'].value_counts()\n",
    "diff_opts = diff_opts[diff_opts >= 10].index.tolist()\n",
    "diff_opts = diff_opts\n",
    "diff_opts.insert(0, 'Any')\n",
    "diff_opts"
   ]
  },
  {
   "cell_type": "markdown",
   "id": "dd7e9287-308b-46eb-be24-13967a426629",
   "metadata": {},
   "source": [
    "**Questions**"
   ]
  },
  {
   "cell_type": "code",
   "execution_count": 520,
   "id": "43937b15-ebd2-40dc-8dc0-53be757e294f",
   "metadata": {
    "tags": []
   },
   "outputs": [],
   "source": [
    "if diff == 'Any':\n",
    "    diff = ['Easy', 'Medium', 'Hard']\n",
    "else:\n",
    "    diffic = []\n",
    "    diffic.append(diff)\n",
    "    diff = diffic\n",
    "\n",
    "valid_qs = trivia_db.loc[trivia_db['Topical'] == True]\n",
    "valid_qs = valid_qs.loc[trivia_db['Difficulty'].isin(diff)]"
   ]
  },
  {
   "cell_type": "code",
   "execution_count": 521,
   "id": "bb9d9a66-ee63-4585-85d1-d75de19220d8",
   "metadata": {
    "tags": []
   },
   "outputs": [],
   "source": [
    "num_qs = valid_qs.shape[0]\n",
    "\n",
    "max_qs = min(num_qs, 50)"
   ]
  }
 ],
 "metadata": {
  "kernelspec": {
   "display_name": "Python 3 (ipykernel)",
   "language": "python",
   "name": "python3"
  },
  "language_info": {
   "codemirror_mode": {
    "name": "ipython",
    "version": 3
   },
   "file_extension": ".py",
   "mimetype": "text/x-python",
   "name": "python",
   "nbconvert_exporter": "python",
   "pygments_lexer": "ipython3",
   "version": "3.11.3"
  }
 },
 "nbformat": 4,
 "nbformat_minor": 5
}
