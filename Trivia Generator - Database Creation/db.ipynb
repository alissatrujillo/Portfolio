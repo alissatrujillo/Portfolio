{
 "cells": [
  {
   "cell_type": "code",
   "execution_count": 1,
   "id": "b4d1ca96-30e5-46e1-835a-923fd1b9794f",
   "metadata": {
    "tags": []
   },
   "outputs": [],
   "source": [
    "import pandas as pd\n",
    "\n",
    "import sqlite3\n",
    "from sqlite3 import Error"
   ]
  },
  {
   "cell_type": "code",
   "execution_count": 2,
   "id": "e198f320-e394-44ea-9997-2385ec6db9fe",
   "metadata": {
    "tags": []
   },
   "outputs": [
    {
     "data": {
      "text/plain": [
       "<sqlite3.Cursor at 0x12815d6c0>"
      ]
     },
     "execution_count": 2,
     "metadata": {},
     "output_type": "execute_result"
    }
   ],
   "source": [
    "conn = sqlite3.connect('trivia.db')\n",
    "\n",
    "c = conn.cursor()\n",
    "c.execute('''CREATE TABLE trivia (ID int, Category text, Topic text, Difficulty text, Question text, Correct_Answer text, Choice_1 text, Choice_2 text, Choice_3 text, Source text)''')"
   ]
  },
  {
   "cell_type": "code",
   "execution_count": 3,
   "id": "b5bbad63-0699-4a2f-973e-a0c18b9b6aab",
   "metadata": {
    "tags": []
   },
   "outputs": [],
   "source": [
    "q = pd.read_csv('questions.csv')\n",
    "q.columns = q.columns.str.replace(' ', '_')"
   ]
  },
  {
   "cell_type": "code",
   "execution_count": 4,
   "id": "e25b76aa-b305-4a7c-9d6c-dec13f629aae",
   "metadata": {
    "tags": []
   },
   "outputs": [
    {
     "data": {
      "text/plain": [
       "88"
      ]
     },
     "execution_count": 4,
     "metadata": {},
     "output_type": "execute_result"
    }
   ],
   "source": [
    "q.to_sql('trivia', conn, if_exists='append', index=False)"
   ]
  },
  {
   "cell_type": "code",
   "execution_count": null,
   "id": "7a8dedd6-084d-43a5-b6a2-ed07db400cfc",
   "metadata": {
    "tags": []
   },
   "outputs": [],
   "source": [
    "c.execute('''SELECT * FROM trivia''').fetchall()"
   ]
  },
  {
   "cell_type": "code",
   "execution_count": 7,
   "id": "9b9397d0-a0fe-45af-8502-a71dce812521",
   "metadata": {
    "tags": []
   },
   "outputs": [
    {
     "data": {
      "text/plain": [
       "[(5,\n",
       "  \"['Halloween', 'Movies']\",\n",
       "  'The Cabin in the Woods',\n",
       "  'Hard',\n",
       "  'What creature attacks Dana at the end of The Cabin in the Woods, almost satisfying the ritual?',\n",
       "  'Werewolf',\n",
       "  'Wendigo',\n",
       "  'Zombie',\n",
       "  'Dragonbat',\n",
       "  'https://thecabininthewoods.fandom.com/wiki/Monsters#List_of_Monsters'),\n",
       " (10,\n",
       "  \"['Disney', 'Movies']\",\n",
       "  'The Little Mermaid',\n",
       "  'Hard',\n",
       "  'What is the name of the solo song that Prince Eric sings in the 2023 remake of The Little Mermaid?',\n",
       "  'Wild Uncharted Waters',\n",
       "  'Uncharted Territory',\n",
       "  'Lost at Sea',\n",
       "  'The Scuttlebutt',\n",
       "  'https://en.wikipedia.org/wiki/The_Little_Mermaid_(2023_film)'),\n",
       " (14,\n",
       "  \"['Disney', 'Movies']\",\n",
       "  'A Goofy Movie',\n",
       "  'Hard',\n",
       "  'What maneuver does Goofy attempt to teach Max while out fishing?',\n",
       "  'The Perfect Cast',\n",
       "  'The Perfect Catch',\n",
       "  'The Big Bigfoot Catch',\n",
       "  'The Perfect Dance',\n",
       "  'https://en.wikipedia.org/wiki/A_Goofy_Movie'),\n",
       " (22,\n",
       "  \"['Marvel', 'Movies']\",\n",
       "  'Captain America',\n",
       "  'Hard',\n",
       "  \"What material is Captain America's shield made out of?\",\n",
       "  'Vibranium',\n",
       "  'Titanium',\n",
       "  'Coaxium',\n",
       "  'Adamantium',\n",
       "  'https://en.wikipedia.org/wiki/Vibranium'),\n",
       " (26,\n",
       "  \"['Movies', 'Literature']\",\n",
       "  'Harry Potter',\n",
       "  'Hard',\n",
       "  'Who does Hermione attend the Yule Ball with in Harry Potter and the Goblet of Fire?',\n",
       "  'Viktor Krum',\n",
       "  'Ron Weasley',\n",
       "  'Neville Longbottom',\n",
       "  'Seamus Finnigan',\n",
       "  'https://harrypotter.fandom.com/wiki/Yule_Ball'),\n",
       " (28,\n",
       "  \"['Movies', 'Literature']\",\n",
       "  'Harry Potter',\n",
       "  'Hard',\n",
       "  \"What shape did Severus Snape's patronus take?\",\n",
       "  'Doe',\n",
       "  'Jackrabbit',\n",
       "  'Fox',\n",
       "  'Wolf',\n",
       "  'https://harrypotter.fandom.com/wiki/Patronus_Charm'),\n",
       " (32,\n",
       "  \"['Literature', 'Movies']\",\n",
       "  'Harry Potter',\n",
       "  'Hard',\n",
       "  \"What is the name of Hagrid's half-brother?\",\n",
       "  'Grawp',\n",
       "  'Hawley',\n",
       "  'Pendearl',\n",
       "  'Lawhren',\n",
       "  'https://harrypotter.fandom.com/wiki/Grawp'),\n",
       " (33,\n",
       "  \"['Literature', 'Movies']\",\n",
       "  'Harry Potter',\n",
       "  'Hard',\n",
       "  'At Hogwarts, what year do the students take their O.W.L. exams?',\n",
       "  'Fifth year',\n",
       "  'Fourth year',\n",
       "  'Seventh year',\n",
       "  'Sixth year',\n",
       "  'https://harrypotter.fandom.com/wiki/Ordinary_Wizarding_Level'),\n",
       " (36,\n",
       "  \"['Video Games']\",\n",
       "  'Pac-Man',\n",
       "  'Hard',\n",
       "  'What are the names of the colored ghosts in Pac-Man?',\n",
       "  'Inky, Blinky, Pinky, Clyde',\n",
       "  'Inky, Winky, Blinky, Pinky',\n",
       "  'Inky, Pinky, Coral, Oliver',\n",
       "  'Inky, Winky, Slinky, Dinky',\n",
       "  'https://en.wikipedia.org/wiki/Pac-Man#:~:text=Pac%2DMan%20is%20an%20action,%E2%80%94who%20pursue%20Pac%2DMan.'),\n",
       " (41,\n",
       "  \"['Video Games']\",\n",
       "  'Crash Bandicoot',\n",
       "  'Hard',\n",
       "  'What is the name of the main antagonist evil scientist in the Crash Bandicoot series?',\n",
       "  'Dr. Neo Cortex',\n",
       "  'Ripper Roo',\n",
       "  'Dr. Nefarious Tropy',\n",
       "  'N. Gin',\n",
       "  'https://crashbandicoot.fandom.com/wiki/Neo_Cortex'),\n",
       " (42,\n",
       "  \"['Video Games']\",\n",
       "  'Spyro',\n",
       "  'Hard',\n",
       "  'In The Legend of Spyro: A New Beginning, what is the name of the evil dragon trying to wage war against the world?',\n",
       "  'Cynder',\n",
       "  'Onyx',\n",
       "  'Cyrille',\n",
       "  'Ignytus',\n",
       "  'https://en.wikipedia.org/wiki/Spyro'),\n",
       " (46,\n",
       "  \"['Video Games', 'Television']\",\n",
       "  'Pokemon',\n",
       "  'Hard',\n",
       "  'What is the name of the electric gym leader in the Kanto region?',\n",
       "  'Lt. Surge',\n",
       "  'Misty',\n",
       "  'Brock',\n",
       "  'Erika',\n",
       "  'https://bulbapedia.bulbagarden.net/wiki/Lt._Surge'),\n",
       " (48,\n",
       "  \"['Television']\",\n",
       "  'Golden Girls',\n",
       "  'Hard',\n",
       "  \"In the Golden Girls series, what is Dorothy's job?\",\n",
       "  'Substitute Teacher',\n",
       "  'Librarian',\n",
       "  'Crossing Guard',\n",
       "  'Barista',\n",
       "  'https://en.wikipedia.org/wiki/Dorothy_Zbornak'),\n",
       " (50,\n",
       "  \"['Television']\",\n",
       "  'The Simpsons',\n",
       "  'Hard',\n",
       "  \"What is the name of Bart Simpson's teacher?\",\n",
       "  'Mrs. Krabappel',\n",
       "  'Mrs. Kollossal',\n",
       "  'Mrs. Kensington',\n",
       "  'Mrs. Krakraft',\n",
       "  'https://en.wikipedia.org/wiki/Edna_Krabappel'),\n",
       " (58,\n",
       "  \"['Television', 'Sitcoms']\",\n",
       "  'Parks and Recreation',\n",
       "  'Hard',\n",
       "  'What is the name of the board game Ben Wyatt creates in Parks and Recreation?',\n",
       "  'The Cones of Dunshire',\n",
       "  'The Sands and the Sea',\n",
       "  'Treasure of the Seven Seas',\n",
       "  'The Pyramids',\n",
       "  'https://parksandrecreation.fandom.com/wiki/The_Cones_of_Dunshire_(game)'),\n",
       " (70,\n",
       "  \"['Music']\",\n",
       "  'The Weeknd',\n",
       "  'Hard',\n",
       "  \"What is The Weeknd's real name?\",\n",
       "  'Abel Tesfaye',\n",
       "  'Arven Tesfaye',\n",
       "  'Amari Tesfaye',\n",
       "  'Ambrosia Tesfaye',\n",
       "  'https://en.wikipedia.org/wiki/The_Weeknd'),\n",
       " (76,\n",
       "  \"['Television', 'Pop Culture']\",\n",
       "  'The Bachelor Series',\n",
       "  'Hard',\n",
       "  'Which former contestant on the Bachelor was the first Bachelorette?',\n",
       "  'Trista Sutter',\n",
       "  'Meredith Phillips',\n",
       "  'Jillian Harris',\n",
       "  'Ali Fedotowsky',\n",
       "  'https://en.wikipedia.org/wiki/The_Bachelorette_(American_TV_series)'),\n",
       " (77,\n",
       "  \"['Television', 'Sitcoms']\",\n",
       "  'Friends',\n",
       "  'Hard',\n",
       "  \"What is Chandler Bing's middle name?\",\n",
       "  'Muriel',\n",
       "  'Maddox',\n",
       "  'Millicent',\n",
       "  'Mallory',\n",
       "  'https://en.wikipedia.org/wiki/Chandler_Bing')]"
      ]
     },
     "execution_count": 7,
     "metadata": {},
     "output_type": "execute_result"
    }
   ],
   "source": [
    "c.execute('''SELECT * FROM trivia WHERE Difficulty = \"Hard\"''').fetchall()"
   ]
  },
  {
   "cell_type": "code",
   "execution_count": null,
   "id": "cf401166-1a94-46c0-9ffb-47b483952119",
   "metadata": {},
   "outputs": [],
   "source": []
  }
 ],
 "metadata": {
  "kernelspec": {
   "display_name": "Python 3 (ipykernel)",
   "language": "python",
   "name": "python3"
  },
  "language_info": {
   "codemirror_mode": {
    "name": "ipython",
    "version": 3
   },
   "file_extension": ".py",
   "mimetype": "text/x-python",
   "name": "python",
   "nbconvert_exporter": "python",
   "pygments_lexer": "ipython3",
   "version": "3.11.3"
  }
 },
 "nbformat": 4,
 "nbformat_minor": 5
}
